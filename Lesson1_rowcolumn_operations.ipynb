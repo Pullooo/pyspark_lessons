{
 "cells": [
  {
   "cell_type": "code",
   "execution_count": 1,
   "id": "0c79f575-5332-4dfb-9272-daf970b389de",
   "metadata": {},
   "outputs": [],
   "source": [
    "import pyspark\n",
    "from pyspark import SparkConf\n",
    "from pyspark.sql import SparkSession, Row\n",
    "import pyspark.sql.functions as F"
   ]
  },
  {
   "cell_type": "code",
   "execution_count": 2,
   "id": "81e9fbef-3db8-47fd-bb24-dec30568f1f9",
   "metadata": {},
   "outputs": [],
   "source": [
    "spark = SparkSession \\\n",
    "    .builder \\\n",
    "    .appName(\"Spark Training\") \\\n",
    "    .getOrCreate()"
   ]
  },
  {
   "cell_type": "markdown",
   "id": "1ab6587f-0d5b-4a32-9a9d-d5beed60020c",
   "metadata": {},
   "source": [
    "#### 1. DataFrame Rows"
   ]
  },
  {
   "cell_type": "code",
   "execution_count": 9,
   "id": "b06f9170-3112-46f8-9297-450db209a000",
   "metadata": {},
   "outputs": [
    {
     "data": {
      "text/plain": [
       "(Row(name='Robert', Age=35), pyspark.sql.types.Row)"
      ]
     },
     "execution_count": 9,
     "metadata": {},
     "output_type": "execute_result"
    }
   ],
   "source": [
    "row = Row(name='Robert', Age=35)\n",
    "row, type(row)"
   ]
  },
  {
   "cell_type": "markdown",
   "id": "67edb472-b060-4ea1-9996-41ccca4a4805",
   "metadata": {},
   "source": [
    "how do you access the individual elements of a row?"
   ]
  },
  {
   "cell_type": "code",
   "execution_count": 10,
   "id": "d4466f01-7f54-4542-a18d-eff91e81b46f",
   "metadata": {},
   "outputs": [
    {
     "data": {
      "text/plain": [
       "'Robert'"
      ]
     },
     "execution_count": 10,
     "metadata": {},
     "output_type": "execute_result"
    }
   ],
   "source": [
    "row.name"
   ]
  },
  {
   "cell_type": "code",
   "execution_count": 11,
   "id": "1a8dd76c-766e-44c0-a605-fb95579cdb50",
   "metadata": {},
   "outputs": [
    {
     "data": {
      "text/plain": [
       "35"
      ]
     },
     "execution_count": 11,
     "metadata": {},
     "output_type": "execute_result"
    }
   ],
   "source": [
    "row.Age"
   ]
  },
  {
   "cell_type": "markdown",
   "id": "6f73a726-38fb-4fb6-b5a1-2d50bfe3c96a",
   "metadata": {},
   "source": [
    "- How can you check if a certain field exist in a row?\n",
    "- How can you check if a certain field contains a certain value for the row?"
   ]
  },
  {
   "cell_type": "code",
   "execution_count": 12,
   "id": "603fe86e-c908-4c2b-9949-89ca2aecb9a3",
   "metadata": {},
   "outputs": [
    {
     "data": {
      "text/plain": [
       "True"
      ]
     },
     "execution_count": 12,
     "metadata": {},
     "output_type": "execute_result"
    }
   ],
   "source": [
    "'name' in row"
   ]
  },
  {
   "cell_type": "code",
   "execution_count": 13,
   "id": "e166ff21-d940-4d34-bfd5-bbcdb3cb1ce5",
   "metadata": {},
   "outputs": [
    {
     "data": {
      "text/plain": [
       "True"
      ]
     },
     "execution_count": 13,
     "metadata": {},
     "output_type": "execute_result"
    }
   ],
   "source": [
    "'Robert' in row.name"
   ]
  },
  {
   "cell_type": "markdown",
   "id": "dcc94170-cc5d-40d4-8ee5-2238d828d6aa",
   "metadata": {},
   "source": [
    "#### 1.2.Creating a dataframe using rows\n",
    "- you always pass in the schema\n",
    "- then specify the row definition"
   ]
  },
  {
   "cell_type": "code",
   "execution_count": 14,
   "id": "59022fdf-5aa8-484d-9a1e-5ac8a1948cd2",
   "metadata": {},
   "outputs": [],
   "source": [
    "schema = ['Name', 'Age'] #optional for spark dataframes but not rdds\n",
    "data = [Row(Name='Alicia', Age=11), Row(Name='Thomas', Age=25)]"
   ]
  },
  {
   "cell_type": "code",
   "execution_count": 16,
   "id": "07157559-c71f-49fe-8162-0bf28fe3a02c",
   "metadata": {},
   "outputs": [],
   "source": [
    "df = spark.createDataFrame(data=data)\n",
    "# schema is optional in this case because the data field contains the names of fields\n",
    "df = spark.createDataFrame(data=data, schema=schema)"
   ]
  },
  {
   "cell_type": "code",
   "execution_count": 17,
   "id": "4c14d8eb-557d-468e-9c5d-ae90cbfe0bdb",
   "metadata": {},
   "outputs": [
    {
     "name": "stdout",
     "output_type": "stream",
     "text": [
      "+------+---+\n",
      "|  Name|Age|\n",
      "+------+---+\n",
      "|Alicia| 11|\n",
      "|Thomas| 25|\n",
      "+------+---+\n",
      "\n"
     ]
    }
   ],
   "source": [
    "df.show()"
   ]
  },
  {
   "cell_type": "markdown",
   "id": "98ba8e9b-e0b4-49f9-854d-edf333409cef",
   "metadata": {},
   "source": [
    "#### 1.3 Creating rows through classes"
   ]
  },
  {
   "cell_type": "code",
   "execution_count": 29,
   "id": "1b7ffac1-070f-422e-8cac-8bc50386f010",
   "metadata": {},
   "outputs": [],
   "source": [
    "Person = Row('Name', 'Age')  #this is our class from which we can create objects\n",
    "p1 = Person('Alicia', 31)  #p1 objects\n",
    "p2 = Person('Robert', 35)  #p2 object"
   ]
  },
  {
   "cell_type": "code",
   "execution_count": 32,
   "id": "c5a05709-e460-44cd-9f74-4212f03ca9fb",
   "metadata": {},
   "outputs": [
    {
     "name": "stdout",
     "output_type": "stream",
     "text": [
      "+------+---+\n",
      "|  Name|Age|\n",
      "+------+---+\n",
      "|Alicia| 31|\n",
      "|Robert| 35|\n",
      "+------+---+\n",
      "\n"
     ]
    }
   ],
   "source": [
    "data = [Person('Alicia', 31), Person('Robert', 35)]  \n",
    "df = spark.createDataFrame(data=data)\n",
    "df.show()"
   ]
  },
  {
   "cell_type": "markdown",
   "id": "f7950dd0-57c4-4614-9e21-b89b02f613c0",
   "metadata": {},
   "source": [
    "### 1.4 Important Row methods\n",
    "- .count(): Returns the number of occurences of values\n",
    "- .index(): Returns the first index of a value\n",
    "- .asDict(): Returns the dictionary view of the row"
   ]
  },
  {
   "cell_type": "code",
   "execution_count": 34,
   "id": "59fcd9a2-550a-4a5e-a22f-8ef854ebe3be",
   "metadata": {},
   "outputs": [],
   "source": [
    "person = Row(name='Alice', age=11, username='Alice')"
   ]
  },
  {
   "cell_type": "code",
   "execution_count": 40,
   "id": "7afe0ff8-e7e3-4a75-9a44-75504eb5482d",
   "metadata": {},
   "outputs": [
    {
     "data": {
      "text/plain": [
       "2"
      ]
     },
     "execution_count": 40,
     "metadata": {},
     "output_type": "execute_result"
    }
   ],
   "source": [
    "person.count('Alice')"
   ]
  },
  {
   "cell_type": "code",
   "execution_count": 37,
   "id": "cb6dfda8-7e20-4d19-bdff-7406fcd9665f",
   "metadata": {},
   "outputs": [
    {
     "data": {
      "text/plain": [
       "0"
      ]
     },
     "execution_count": 37,
     "metadata": {},
     "output_type": "execute_result"
    }
   ],
   "source": [
    "person.index('Alice')"
   ]
  },
  {
   "cell_type": "code",
   "execution_count": 38,
   "id": "d788e22b-0d65-42f4-b95d-28cb4cfcfebd",
   "metadata": {},
   "outputs": [
    {
     "data": {
      "text/plain": [
       "{'name': 'Alice', 'age': 11, 'username': 'Alice'}"
      ]
     },
     "execution_count": 38,
     "metadata": {},
     "output_type": "execute_result"
    }
   ],
   "source": [
    "person.asDict()"
   ]
  },
  {
   "cell_type": "markdown",
   "id": "88d06193-b95d-4f99-bcba-4a2f8d2fa8ff",
   "metadata": {},
   "source": [
    "### 2.0 Dataframe Columns\n",
    "Column class doesnt need to be imported as it comes as a default in pyspark"
   ]
  },
  {
   "cell_type": "code",
   "execution_count": 28,
   "id": "87153b53-885c-4e0c-ab37-9e627df5ac66",
   "metadata": {},
   "outputs": [],
   "source": [
    "path = \"data/sparkify_log_small.json\"\n",
    "\n",
    "df = spark.read.json(path)"
   ]
  },
  {
   "cell_type": "code",
   "execution_count": 42,
   "id": "7c2a11ca-704b-418e-8492-5797e3ef8539",
   "metadata": {},
   "outputs": [
    {
     "name": "stdout",
     "output_type": "stream",
     "text": [
      "root\n",
      " |-- artist: string (nullable = true)\n",
      " |-- auth: string (nullable = true)\n",
      " |-- firstName: string (nullable = true)\n",
      " |-- gender: string (nullable = true)\n",
      " |-- itemInSession: long (nullable = true)\n",
      " |-- lastName: string (nullable = true)\n",
      " |-- length: double (nullable = true)\n",
      " |-- level: string (nullable = true)\n",
      " |-- location: string (nullable = true)\n",
      " |-- method: string (nullable = true)\n",
      " |-- page: string (nullable = true)\n",
      " |-- registration: long (nullable = true)\n",
      " |-- sessionId: long (nullable = true)\n",
      " |-- song: string (nullable = true)\n",
      " |-- status: long (nullable = true)\n",
      " |-- ts: long (nullable = true)\n",
      " |-- userAgent: string (nullable = true)\n",
      " |-- userId: string (nullable = true)\n",
      "\n"
     ]
    }
   ],
   "source": [
    "df.printSchema()"
   ]
  },
  {
   "cell_type": "markdown",
   "id": "8c9adc0e-00e1-4d34-9be0-7bcb8746e58f",
   "metadata": {},
   "source": [
    "### 2.1 Accessing a single column using `select` clause"
   ]
  },
  {
   "cell_type": "code",
   "execution_count": 44,
   "id": "251276be-f89b-4153-aefb-776b743f029f",
   "metadata": {},
   "outputs": [
    {
     "name": "stdout",
     "output_type": "stream",
     "text": [
      "+--------------------+\n",
      "|              artist|\n",
      "+--------------------+\n",
      "|       Showaddywaddy|\n",
      "|          Lily Allen|\n",
      "|Cobra Starship Fe...|\n",
      "|          Alex Smoke|\n",
      "|                null|\n",
      "+--------------------+\n",
      "only showing top 5 rows\n",
      "\n"
     ]
    }
   ],
   "source": [
    "df.select(df.artist).show(5)   #cleaner syntax"
   ]
  },
  {
   "cell_type": "code",
   "execution_count": 45,
   "id": "8469513c-4967-4423-b78f-f04d1a13a471",
   "metadata": {},
   "outputs": [
    {
     "name": "stdout",
     "output_type": "stream",
     "text": [
      "+--------------------+\n",
      "|              artist|\n",
      "+--------------------+\n",
      "|       Showaddywaddy|\n",
      "|          Lily Allen|\n",
      "|Cobra Starship Fe...|\n",
      "|          Alex Smoke|\n",
      "|                null|\n",
      "+--------------------+\n",
      "only showing top 5 rows\n",
      "\n"
     ]
    }
   ],
   "source": [
    "# alternatively, pass column name in square bracketts\n",
    "df.select(df['artist']).show(5)"
   ]
  },
  {
   "cell_type": "code",
   "execution_count": 49,
   "id": "1a65b213-8883-4c2b-8257-b9fe842f6a12",
   "metadata": {},
   "outputs": [
    {
     "name": "stdout",
     "output_type": "stream",
     "text": [
      "+--------------------+\n",
      "|              artist|\n",
      "+--------------------+\n",
      "|       Showaddywaddy|\n",
      "|          Lily Allen|\n",
      "|Cobra Starship Fe...|\n",
      "|          Alex Smoke|\n",
      "|                null|\n",
      "+--------------------+\n",
      "only showing top 5 rows\n",
      "\n"
     ]
    }
   ],
   "source": [
    "# using F.col\n",
    "df.select(F.col('artist')).show(5)"
   ]
  },
  {
   "cell_type": "markdown",
   "id": "3aac62ed-a645-49aa-bb29-87f64c182ed8",
   "metadata": {},
   "source": [
    "### 2.2 selecting all columns \n",
    "- use *\n",
    "- use F.col"
   ]
  },
  {
   "cell_type": "code",
   "execution_count": 48,
   "id": "b67f969b-a7dc-4e04-bcd3-02d16772004e",
   "metadata": {},
   "outputs": [
    {
     "name": "stdout",
     "output_type": "stream",
     "text": [
      "+-------------+---------+---------+------+-------------+--------+---------+-----+--------------------+------+--------+-------------+---------+--------------------+------+-------------+--------------------+------+\n",
      "|       artist|     auth|firstName|gender|itemInSession|lastName|   length|level|            location|method|    page| registration|sessionId|                song|status|           ts|           userAgent|userId|\n",
      "+-------------+---------+---------+------+-------------+--------+---------+-----+--------------------+------+--------+-------------+---------+--------------------+------+-------------+--------------------+------+\n",
      "|Showaddywaddy|Logged In|  Kenneth|     M|          112|Matthews|232.93342| paid|Charlotte-Concord...|   PUT|NextSong|1509380319284|     5132|Christmas Tears W...|   200|1513720872284|\"Mozilla/5.0 (Win...|  1046|\n",
      "|   Lily Allen|Logged In|Elizabeth|     F|            7|   Chase|195.23873| free|Shreveport-Bossie...|   PUT|NextSong|1512718541284|     5027|       Cheryl Tweedy|   200|1513720878284|\"Mozilla/5.0 (Win...|  1000|\n",
      "+-------------+---------+---------+------+-------------+--------+---------+-----+--------------------+------+--------+-------------+---------+--------------------+------+-------------+--------------------+------+\n",
      "only showing top 2 rows\n",
      "\n"
     ]
    }
   ],
   "source": [
    "df.select(F.col('*')).show(2) "
   ]
  },
  {
   "cell_type": "markdown",
   "id": "40f01d1a-9722-422f-8136-40cfcad6f23b",
   "metadata": {},
   "source": [
    "### 2.3 Giving alias name to columns\n",
    "`Notes`\n",
    "- dataframe functions are applied to the left of the column\n",
    "- column functions are applied to the right of the column"
   ]
  },
  {
   "cell_type": "code",
   "execution_count": 50,
   "id": "3e150d9f-b880-4191-89f0-838d360a07e7",
   "metadata": {},
   "outputs": [
    {
     "name": "stdout",
     "output_type": "stream",
     "text": [
      "+--------------------+\n",
      "|         artist_name|\n",
      "+--------------------+\n",
      "|       Showaddywaddy|\n",
      "|          Lily Allen|\n",
      "|Cobra Starship Fe...|\n",
      "|          Alex Smoke|\n",
      "|                null|\n",
      "+--------------------+\n",
      "only showing top 5 rows\n",
      "\n"
     ]
    }
   ],
   "source": [
    "df.select(df.artist.alias('artist_name')).show(5)  "
   ]
  },
  {
   "cell_type": "markdown",
   "id": "5d4f6ec5-bd0d-44c3-bd67-5a22dc7c17e6",
   "metadata": {},
   "source": [
    "#### 2.4 Ordering a column \n",
    "- asc()\n",
    "- asc_nulls_first()\n",
    "- asc_nulls_last()\n",
    "- desc()\n",
    "- desc_nulls_first()\n",
    "- desc_nulls_last()"
   ]
  },
  {
   "cell_type": "code",
   "execution_count": 110,
   "id": "bb08df16-f533-4aae-8d2e-79ad65738d1c",
   "metadata": {},
   "outputs": [
    {
     "name": "stdout",
     "output_type": "stream",
     "text": [
      "+--------------------+\n",
      "|              artist|\n",
      "+--------------------+\n",
      "|      The Black Keys|\n",
      "|        STRATOVARIUS|\n",
      "|      The Chameleons|\n",
      "|Dashboard Confess...|\n",
      "|      Jarabe De Palo|\n",
      "|        Ziggy Marley|\n",
      "|        Yann Tiersen|\n",
      "|  The Watts Prophets|\n",
      "|            Goldfish|\n",
      "|           Kate Nash|\n",
      "+--------------------+\n",
      "only showing top 10 rows\n",
      "\n"
     ]
    }
   ],
   "source": [
    "# sort by descending artist\n",
    "df.orderBy(df.artist.asc())\\\n",
    "    .select(df.artist)\\\n",
    "    .distinct()\\\n",
    "    .show(10)"
   ]
  },
  {
   "cell_type": "markdown",
   "id": "9a7146d2-2e43-4cfe-89e7-f51227c1b0c7",
   "metadata": {},
   "source": [
    "#### 2.5. Casting columns\n",
    "converts columns from one type to another"
   ]
  },
  {
   "cell_type": "code",
   "execution_count": 64,
   "id": "14a1dbc0-7c8b-42cc-a825-7d456d1f236e",
   "metadata": {},
   "outputs": [
    {
     "data": {
      "text/plain": [
       "[('artist', 'string'),\n",
       " ('auth', 'string'),\n",
       " ('firstName', 'string'),\n",
       " ('gender', 'string'),\n",
       " ('itemInSession', 'bigint'),\n",
       " ('lastName', 'string'),\n",
       " ('length', 'double'),\n",
       " ('level', 'string'),\n",
       " ('location', 'string'),\n",
       " ('method', 'string'),\n",
       " ('page', 'string'),\n",
       " ('registration', 'bigint'),\n",
       " ('sessionId', 'bigint'),\n",
       " ('song', 'string'),\n",
       " ('status', 'bigint'),\n",
       " ('ts', 'bigint'),\n",
       " ('userAgent', 'string'),\n",
       " ('userId', 'string')]"
      ]
     },
     "execution_count": 64,
     "metadata": {},
     "output_type": "execute_result"
    }
   ],
   "source": [
    "df.dtypes"
   ]
  },
  {
   "cell_type": "markdown",
   "id": "6a8dc50f-e14e-4dde-a335-0c11732cdeda",
   "metadata": {},
   "source": [
    "#### 2.5.1 .cast\n",
    "cast ts from bigint to string"
   ]
  },
  {
   "cell_type": "code",
   "execution_count": 74,
   "id": "da767a2e-26f1-467d-889d-89ea165d34c7",
   "metadata": {},
   "outputs": [
    {
     "data": {
      "text/plain": [
       "[('ts', 'string')]"
      ]
     },
     "execution_count": 74,
     "metadata": {},
     "output_type": "execute_result"
    }
   ],
   "source": [
    "new_col = df.select(df.ts.cast('string'))\n",
    "new_col.dtypes"
   ]
  },
  {
   "cell_type": "markdown",
   "id": "6dccd38e-b45e-4490-885f-0302efacf07f",
   "metadata": {
    "tags": []
   },
   "source": [
    "### 2.6. Logical Operators\n",
    "- between()\n",
    "- contains()\n",
    "- startswith()\n",
    "- endswith()\n",
    "- like()\n",
    "- rlike()\n",
    "- isin()\n",
    "\n",
    "Note:\n",
    "- when df.select() is used with a logical operator, it returns a columns with True and False as values\n",
    "- Alternatively, when `df.filter()` or `df.where()` is used, it returns original values and only selection of columns that meet the condition"
   ]
  },
  {
   "cell_type": "markdown",
   "id": "b8baa4b5-d648-4d6a-91ec-cd33e9beb401",
   "metadata": {},
   "source": [
    "#### 2.6.1 .between()"
   ]
  },
  {
   "cell_type": "code",
   "execution_count": 87,
   "id": "7d16823d-a5c4-4ca8-a5ce-b0ec65a885ab",
   "metadata": {},
   "outputs": [
    {
     "name": "stdout",
     "output_type": "stream",
     "text": [
      "+-----------------------------------+\n",
      "|((status >= 0) AND (status <= 300))|\n",
      "+-----------------------------------+\n",
      "|                               true|\n",
      "|                               true|\n",
      "|                               true|\n",
      "|                               true|\n",
      "|                               true|\n",
      "+-----------------------------------+\n",
      "only showing top 5 rows\n",
      "\n"
     ]
    }
   ],
   "source": [
    "# boolean returned when df.select used\n",
    "df.select(df.status.between(0, 300)).show(5)"
   ]
  },
  {
   "cell_type": "code",
   "execution_count": 90,
   "id": "3631833f-b967-4bcd-ace3-ee4874beef5e",
   "metadata": {},
   "outputs": [
    {
     "name": "stdout",
     "output_type": "stream",
     "text": [
      "+--------------------+---------+---------+------+-------------+---------+---------+-----+--------------------+------+--------+-------------+---------+--------------------+------+-------------+--------------------+------+\n",
      "|              artist|     auth|firstName|gender|itemInSession| lastName|   length|level|            location|method|    page| registration|sessionId|                song|status|           ts|           userAgent|userId|\n",
      "+--------------------+---------+---------+------+-------------+---------+---------+-----+--------------------+------+--------+-------------+---------+--------------------+------+-------------+--------------------+------+\n",
      "|       Showaddywaddy|Logged In|  Kenneth|     M|          112| Matthews|232.93342| paid|Charlotte-Concord...|   PUT|NextSong|1509380319284|     5132|Christmas Tears W...|   200|1513720872284|\"Mozilla/5.0 (Win...|  1046|\n",
      "|          Lily Allen|Logged In|Elizabeth|     F|            7|    Chase|195.23873| free|Shreveport-Bossie...|   PUT|NextSong|1512718541284|     5027|       Cheryl Tweedy|   200|1513720878284|\"Mozilla/5.0 (Win...|  1000|\n",
      "|Cobra Starship Fe...|Logged In|     Vera|     F|            6|Blackwell|196.20526| paid|          Racine, WI|   PUT|NextSong|1499855749284|     5516|Good Girls Go Bad...|   200|1513720881284|\"Mozilla/5.0 (Mac...|  2219|\n",
      "|          Alex Smoke|Logged In|   Sophee|     F|            8|   Barker|405.99465| paid|San Luis Obispo-P...|   PUT|NextSong|1513009647284|     2372| Don't See The Point|   200|1513720905284|\"Mozilla/5.0 (Win...|  2373|\n",
      "|                null|Logged In|   Jordyn|     F|            0|    Jones|     null| free|        Syracuse, NY|   GET|    Home|1513648531284|     1746|                null|   200|1513720913284|\"Mozilla/5.0 (Mac...|  1747|\n",
      "+--------------------+---------+---------+------+-------------+---------+---------+-----+--------------------+------+--------+-------------+---------+--------------------+------+-------------+--------------------+------+\n",
      "only showing top 5 rows\n",
      "\n"
     ]
    }
   ],
   "source": [
    "# filter\n",
    "df.filter(df.status.between(0, 300)).show(5)"
   ]
  },
  {
   "cell_type": "code",
   "execution_count": 91,
   "id": "f57f7de4-c122-4fcc-91a9-3f78825e9fc6",
   "metadata": {},
   "outputs": [
    {
     "name": "stdout",
     "output_type": "stream",
     "text": [
      "+--------------------+---------+---------+------+-------------+---------+---------+-----+--------------------+------+--------+-------------+---------+--------------------+------+-------------+--------------------+------+\n",
      "|              artist|     auth|firstName|gender|itemInSession| lastName|   length|level|            location|method|    page| registration|sessionId|                song|status|           ts|           userAgent|userId|\n",
      "+--------------------+---------+---------+------+-------------+---------+---------+-----+--------------------+------+--------+-------------+---------+--------------------+------+-------------+--------------------+------+\n",
      "|       Showaddywaddy|Logged In|  Kenneth|     M|          112| Matthews|232.93342| paid|Charlotte-Concord...|   PUT|NextSong|1509380319284|     5132|Christmas Tears W...|   200|1513720872284|\"Mozilla/5.0 (Win...|  1046|\n",
      "|          Lily Allen|Logged In|Elizabeth|     F|            7|    Chase|195.23873| free|Shreveport-Bossie...|   PUT|NextSong|1512718541284|     5027|       Cheryl Tweedy|   200|1513720878284|\"Mozilla/5.0 (Win...|  1000|\n",
      "|Cobra Starship Fe...|Logged In|     Vera|     F|            6|Blackwell|196.20526| paid|          Racine, WI|   PUT|NextSong|1499855749284|     5516|Good Girls Go Bad...|   200|1513720881284|\"Mozilla/5.0 (Mac...|  2219|\n",
      "|          Alex Smoke|Logged In|   Sophee|     F|            8|   Barker|405.99465| paid|San Luis Obispo-P...|   PUT|NextSong|1513009647284|     2372| Don't See The Point|   200|1513720905284|\"Mozilla/5.0 (Win...|  2373|\n",
      "|                null|Logged In|   Jordyn|     F|            0|    Jones|     null| free|        Syracuse, NY|   GET|    Home|1513648531284|     1746|                null|   200|1513720913284|\"Mozilla/5.0 (Mac...|  1747|\n",
      "+--------------------+---------+---------+------+-------------+---------+---------+-----+--------------------+------+--------+-------------+---------+--------------------+------+-------------+--------------------+------+\n",
      "only showing top 5 rows\n",
      "\n"
     ]
    }
   ],
   "source": [
    "# where\n",
    "df.where(df.status.between(0, 300)).show(5)"
   ]
  },
  {
   "cell_type": "code",
   "execution_count": 93,
   "id": "3e1a9625-00f6-46bc-9db5-067c5ed7332f",
   "metadata": {},
   "outputs": [
    {
     "name": "stdout",
     "output_type": "stream",
     "text": [
      "+--------------------+---------+---------+------+-------------+---------+---------+-----+--------------------+------+--------+-------------+---------+--------------------+------+-------------+--------------------+------+\n",
      "|              artist|     auth|firstName|gender|itemInSession| lastName|   length|level|            location|method|    page| registration|sessionId|                song|status|           ts|           userAgent|userId|\n",
      "+--------------------+---------+---------+------+-------------+---------+---------+-----+--------------------+------+--------+-------------+---------+--------------------+------+-------------+--------------------+------+\n",
      "|       Showaddywaddy|Logged In|  Kenneth|     M|          112| Matthews|232.93342| paid|Charlotte-Concord...|   PUT|NextSong|1509380319284|     5132|Christmas Tears W...|   200|1513720872284|\"Mozilla/5.0 (Win...|  1046|\n",
      "|          Lily Allen|Logged In|Elizabeth|     F|            7|    Chase|195.23873| free|Shreveport-Bossie...|   PUT|NextSong|1512718541284|     5027|       Cheryl Tweedy|   200|1513720878284|\"Mozilla/5.0 (Win...|  1000|\n",
      "|Cobra Starship Fe...|Logged In|     Vera|     F|            6|Blackwell|196.20526| paid|          Racine, WI|   PUT|NextSong|1499855749284|     5516|Good Girls Go Bad...|   200|1513720881284|\"Mozilla/5.0 (Mac...|  2219|\n",
      "|          Alex Smoke|Logged In|   Sophee|     F|            8|   Barker|405.99465| paid|San Luis Obispo-P...|   PUT|NextSong|1513009647284|     2372| Don't See The Point|   200|1513720905284|\"Mozilla/5.0 (Win...|  2373|\n",
      "|                null|Logged In|   Jordyn|     F|            0|    Jones|     null| free|        Syracuse, NY|   GET|    Home|1513648531284|     1746|                null|   200|1513720913284|\"Mozilla/5.0 (Mac...|  1747|\n",
      "+--------------------+---------+---------+------+-------------+---------+---------+-----+--------------------+------+--------+-------------+---------+--------------------+------+-------------+--------------------+------+\n",
      "only showing top 5 rows\n",
      "\n"
     ]
    }
   ],
   "source": [
    "# alternatively, use the booleans to our advantage\n",
    "df[(df.status.between(0, 300))].show(5)"
   ]
  },
  {
   "cell_type": "markdown",
   "id": "7fb40c03-1736-493f-a15f-1ae64665bde2",
   "metadata": {},
   "source": [
    "#### 2.6.2 .contains()"
   ]
  },
  {
   "cell_type": "code",
   "execution_count": 103,
   "id": "9c974324-6309-4494-92ec-749c233a5b8f",
   "metadata": {},
   "outputs": [
    {
     "name": "stdout",
     "output_type": "stream",
     "text": [
      "+---------+\n",
      "|firstName|\n",
      "+---------+\n",
      "|   Sophee|\n",
      "|   Sophia|\n",
      "|    Soren|\n",
      "+---------+\n",
      "\n"
     ]
    }
   ],
   "source": [
    "df.where(df.firstName.contains('So'))\\\n",
    "    .select('firstName')\\\n",
    "    .distinct()\\\n",
    "    .show(5)"
   ]
  },
  {
   "cell_type": "markdown",
   "id": "8214132e-4002-4b57-bc6d-22d478598e64",
   "metadata": {},
   "source": [
    "#### 2.6.3 .like()"
   ]
  },
  {
   "cell_type": "code",
   "execution_count": 104,
   "id": "77a97f40-9811-4401-a6ed-77cc014c3704",
   "metadata": {},
   "outputs": [
    {
     "name": "stdout",
     "output_type": "stream",
     "text": [
      "+---------+\n",
      "|firstname|\n",
      "+---------+\n",
      "|  Gerardo|\n",
      "|   Jordan|\n",
      "|  Edgardo|\n",
      "|   Edward|\n",
      "|   Jordyn|\n",
      "+---------+\n",
      "\n"
     ]
    }
   ],
   "source": [
    "df.filter(df.firstName.like('%rd%'))\\\n",
    "    .select('firstname')\\\n",
    "    .distinct()\\\n",
    "    .show()"
   ]
  },
  {
   "cell_type": "markdown",
   "id": "803945d5-dfa5-4bf2-a0e3-43587944a357",
   "metadata": {},
   "source": [
    "#### 2.6.4 .startswith()"
   ]
  },
  {
   "cell_type": "code",
   "execution_count": 106,
   "id": "47410cfc-1b19-4527-bee0-330db7db62d2",
   "metadata": {},
   "outputs": [
    {
     "name": "stdout",
     "output_type": "stream",
     "text": [
      "+---------+\n",
      "|firstName|\n",
      "+---------+\n",
      "|    Lucas|\n",
      "|   Lennox|\n",
      "|    Litzy|\n",
      "|     Luna|\n",
      "|    Lance|\n",
      "+---------+\n",
      "only showing top 5 rows\n",
      "\n"
     ]
    }
   ],
   "source": [
    "df.where(df.firstName.startswith('L'))\\\n",
    "    .select('firstName')\\\n",
    "    .distinct()\\\n",
    "    .show(5)"
   ]
  },
  {
   "cell_type": "markdown",
   "id": "cc690457-8ea1-4647-b150-2925861182a6",
   "metadata": {},
   "source": [
    "#### 2.6.5 .isin()"
   ]
  },
  {
   "cell_type": "code",
   "execution_count": 109,
   "id": "6bf49dcf-0fea-4226-b529-b73c30bd69f2",
   "metadata": {},
   "outputs": [
    {
     "name": "stdout",
     "output_type": "stream",
     "text": [
      "+---------+\n",
      "|firstname|\n",
      "+---------+\n",
      "|    Lucas|\n",
      "|   Lennox|\n",
      "|    Litzy|\n",
      "+---------+\n",
      "\n"
     ]
    }
   ],
   "source": [
    "df[df.firstName.isin('Lucas','Lennox','Litzy')]\\\n",
    "    .select('firstname')\\\n",
    "    .distinct()\\\n",
    "    .show()"
   ]
  },
  {
   "cell_type": "markdown",
   "id": "2908d21e-cdd3-4745-b3b2-76b1583a50a6",
   "metadata": {},
   "source": [
    "### 2.7 Missing value Operations\n",
    "- eqNullSafe()\n",
    "- isNull()\n",
    "- isNotNull()"
   ]
  },
  {
   "cell_type": "markdown",
   "id": "b1c27d10-619c-4f14-a2b3-b082a9daeba3",
   "metadata": {},
   "source": [
    "#### 2.7.1 .eqNullSafe()\n",
    "Assignments in pyspark do not check the Null or None Values. To check them use this function"
   ]
  },
  {
   "cell_type": "code",
   "execution_count": 112,
   "id": "7799ecfa-a762-4c46-afb8-35d823454cc0",
   "metadata": {},
   "outputs": [
    {
     "name": "stdout",
     "output_type": "stream",
     "text": [
      "root\n",
      " |-- artist: string (nullable = true)\n",
      " |-- auth: string (nullable = true)\n",
      " |-- firstName: string (nullable = true)\n",
      " |-- gender: string (nullable = true)\n",
      " |-- itemInSession: long (nullable = true)\n",
      " |-- lastName: string (nullable = true)\n",
      " |-- length: double (nullable = true)\n",
      " |-- level: string (nullable = true)\n",
      " |-- location: string (nullable = true)\n",
      " |-- method: string (nullable = true)\n",
      " |-- page: string (nullable = true)\n",
      " |-- registration: long (nullable = true)\n",
      " |-- sessionId: long (nullable = true)\n",
      " |-- song: string (nullable = true)\n",
      " |-- status: long (nullable = true)\n",
      " |-- ts: long (nullable = true)\n",
      " |-- userAgent: string (nullable = true)\n",
      " |-- userId: string (nullable = true)\n",
      "\n"
     ]
    }
   ],
   "source": [
    "df.printSchema()"
   ]
  },
  {
   "cell_type": "code",
   "execution_count": 121,
   "id": "2e2986b9-e450-46c4-a138-8ca2a499715c",
   "metadata": {},
   "outputs": [
    {
     "name": "stdout",
     "output_type": "stream",
     "text": [
      "+------------+\n",
      "|(gender = M)|\n",
      "+------------+\n",
      "|        null|\n",
      "|        true|\n",
      "|       false|\n",
      "+------------+\n",
      "\n"
     ]
    }
   ],
   "source": [
    "df.select(df.gender == 'M').distinct().show()"
   ]
  },
  {
   "cell_type": "markdown",
   "id": "3cc08ff0-a8de-4743-8fd7-d73f2efc4784",
   "metadata": {},
   "source": [
    "Notice the problem:\n",
    "- We are searching for distinct values where Gender = M\n",
    "- We should only get two values: true--> when gender is M and False otherwise. But we get null too\n",
    "- This does not check null too, ideally, if gender is null, then it should return False"
   ]
  },
  {
   "cell_type": "code",
   "execution_count": 126,
   "id": "67b1e4de-b378-4022-b77c-a6d842b7b09b",
   "metadata": {},
   "outputs": [
    {
     "name": "stdout",
     "output_type": "stream",
     "text": [
      "+--------------+\n",
      "|(gender <=> M)|\n",
      "+--------------+\n",
      "|          true|\n",
      "|         false|\n",
      "+--------------+\n",
      "\n"
     ]
    }
   ],
   "source": [
    "# to correct above\n",
    "df.select(df.gender.eqNullSafe('M')).distinct().show()"
   ]
  },
  {
   "cell_type": "code",
   "execution_count": 130,
   "id": "255aa140-9f6b-4e07-929d-493e9a33dea6",
   "metadata": {},
   "outputs": [
    {
     "name": "stdout",
     "output_type": "stream",
     "text": [
      "+------------+--------------+\n",
      "|(gender = M)|(gender <=> M)|\n",
      "+------------+--------------+\n",
      "|        true|          true|\n",
      "|       false|         false|\n",
      "|        null|         false|\n",
      "+------------+--------------+\n",
      "\n"
     ]
    }
   ],
   "source": [
    "# let's compare what both approaches\n",
    "df.select(df.gender =='M', df.gender.eqNullSafe('M')).distinct().show()"
   ]
  },
  {
   "cell_type": "markdown",
   "id": "b7852418-76b3-4149-876b-db1267d568eb",
   "metadata": {},
   "source": [
    "#### 2.7.2 .isNull()"
   ]
  },
  {
   "cell_type": "code",
   "execution_count": 131,
   "id": "878ecde9-b5fb-4b64-8791-1a419490fabb",
   "metadata": {},
   "outputs": [
    {
     "name": "stdout",
     "output_type": "stream",
     "text": [
      "+------+----------------+\n",
      "|gender|(gender IS NULL)|\n",
      "+------+----------------+\n",
      "|  null|            true|\n",
      "|     F|           false|\n",
      "|     M|           false|\n",
      "+------+----------------+\n",
      "\n"
     ]
    }
   ],
   "source": [
    "df.select(df.gender, df.gender.isNull())\\\n",
    "    .distinct()\\\n",
    "    .show()"
   ]
  },
  {
   "cell_type": "markdown",
   "id": "0f0a8d5a-a7c8-4840-ae51-548d66035bef",
   "metadata": {},
   "source": [
    "#### 2.7.3 .isNotNull()"
   ]
  },
  {
   "cell_type": "code",
   "execution_count": 132,
   "id": "5c20e2f5-0c30-46f3-bab5-a13387d9c96c",
   "metadata": {},
   "outputs": [
    {
     "name": "stdout",
     "output_type": "stream",
     "text": [
      "+------+--------------------+\n",
      "|gender|(gender IS NOT NULL)|\n",
      "+------+--------------------+\n",
      "|     M|                true|\n",
      "|     F|                true|\n",
      "|  null|               false|\n",
      "+------+--------------------+\n",
      "\n"
     ]
    }
   ],
   "source": [
    "df.select(df.gender, df.gender.isNotNull())\\\n",
    "    .distinct()\\\n",
    "    .show()"
   ]
  },
  {
   "cell_type": "markdown",
   "id": "fc14ec30-79ef-4141-b266-d6534eafb5fd",
   "metadata": {},
   "source": [
    "### 2.8 .substr()"
   ]
  },
  {
   "cell_type": "code",
   "execution_count": 137,
   "id": "63b5c4d4-2147-4b8a-bd95-44f98465c50f",
   "metadata": {},
   "outputs": [
    {
     "name": "stdout",
     "output_type": "stream",
     "text": [
      "+----------+---------+---------+------+-------------+--------+---------+-----+--------------------+------+--------+-------------+---------+--------------------+------+-------------+--------------------+------+\n",
      "|    artist|     auth|firstName|gender|itemInSession|lastName|   length|level|            location|method|    page| registration|sessionId|                song|status|           ts|           userAgent|userId|\n",
      "+----------+---------+---------+------+-------------+--------+---------+-----+--------------------+------+--------+-------------+---------+--------------------+------+-------------+--------------------+------+\n",
      "|Lily Allen|Logged In|Elizabeth|     F|            7|   Chase|195.23873| free|Shreveport-Bossie...|   PUT|NextSong|1512718541284|     5027|       Cheryl Tweedy|   200|1513720878284|\"Mozilla/5.0 (Win...|  1000|\n",
      "|Kyle Cease|Logged In|Elizabeth|     F|            0| Wheeler|271.20281| paid|Miami-Fort Lauder...|   PUT|NextSong|1508260038284|     5458| Generation Nintendo|   200|1513722979284|\"Mozilla/5.0 (Mac...|  1396|\n",
      "|      null|Logged In|Elizabeth|     F|            0| Wheeler|     null| paid|Miami-Fort Lauder...|   GET|    Home|1508260038284|     5792|                null|   200|1513777140284|\"Mozilla/5.0 (Mac...|  1396|\n",
      "| Van Halen|Logged In|Elizabeth|     F|            1| Wheeler|292.33587| paid|Miami-Fort Lauder...|   PUT|NextSong|1508260038284|     5792|Dreams (Remastere...|   200|1513777206284|\"Mozilla/5.0 (Mac...|  1396|\n",
      "+----------+---------+---------+------+-------------+--------+---------+-----+--------------------+------+--------+-------------+---------+--------------------+------+-------------+--------------------+------+\n",
      "only showing top 4 rows\n",
      "\n"
     ]
    }
   ],
   "source": [
    "df.filter(df.firstName.substr(1,4) == 'Eliz').show(4)"
   ]
  },
  {
   "cell_type": "markdown",
   "id": "3416d962-3834-4e45-a6e5-84a328586c76",
   "metadata": {},
   "source": [
    "#### 2.9 getField()\n",
    "\n",
    "Gets a field by name in the StructField"
   ]
  },
  {
   "cell_type": "code",
   "execution_count": 40,
   "id": "92901170-6021-47ac-9dd9-163d54e7d4eb",
   "metadata": {},
   "outputs": [
    {
     "name": "stdout",
     "output_type": "stream",
     "text": [
      "root\n",
      " |-- classLetter: struct (nullable = true)\n",
      " |    |-- a1: long (nullable = true)\n",
      " |    |-- a2: string (nullable = true)\n",
      "\n"
     ]
    }
   ],
   "source": [
    "df1 = spark.createDataFrame([Row(classLetter=Row(a1=1, a2='b')), Row(classLetter=Row(a1=2, a2='bb'))])\n",
    "\n",
    "df1.printSchema()"
   ]
  },
  {
   "cell_type": "code",
   "execution_count": 12,
   "id": "56dfe83c-94a9-425f-9113-f0eb0018a471",
   "metadata": {},
   "outputs": [
    {
     "name": "stdout",
     "output_type": "stream",
     "text": [
      "+-----------+\n",
      "|classLetter|\n",
      "+-----------+\n",
      "|     {1, b}|\n",
      "|    {2, bb}|\n",
      "+-----------+\n",
      "\n"
     ]
    }
   ],
   "source": [
    "df1.show()"
   ]
  },
  {
   "cell_type": "markdown",
   "id": "cae050af-1c46-49f3-a4ec-33d5d175906d",
   "metadata": {},
   "source": [
    "There's two way's to extract the first (or second) element in of classLetter\n",
    "- Directly using dot notation i.e .classLetter.a1 (a1 comes from the schema)\n",
    "- Directly using .getField()"
   ]
  },
  {
   "cell_type": "code",
   "execution_count": 16,
   "id": "4c9c670e-4be8-4549-813e-78367b4586f7",
   "metadata": {},
   "outputs": [
    {
     "name": "stdout",
     "output_type": "stream",
     "text": [
      "+--------------+\n",
      "|classLetter.a1|\n",
      "+--------------+\n",
      "|             1|\n",
      "|             2|\n",
      "+--------------+\n",
      "\n",
      "+--------------+\n",
      "|classLetter.a2|\n",
      "+--------------+\n",
      "|             b|\n",
      "|            bb|\n",
      "+--------------+\n",
      "\n"
     ]
    },
    {
     "data": {
      "text/plain": [
       "(None, None)"
      ]
     },
     "execution_count": 16,
     "metadata": {},
     "output_type": "execute_result"
    }
   ],
   "source": [
    "#method 1\n",
    "df1.select(df1.classLetter.a1).show(), df1.select(df1.classLetter.a2).show()"
   ]
  },
  {
   "cell_type": "code",
   "execution_count": 19,
   "id": "be4112aa-db91-4480-8894-611b195d66c1",
   "metadata": {},
   "outputs": [
    {
     "name": "stdout",
     "output_type": "stream",
     "text": [
      "+--------------+\n",
      "|classLetter.a1|\n",
      "+--------------+\n",
      "|             1|\n",
      "|             2|\n",
      "+--------------+\n",
      "\n",
      "+--------------+\n",
      "|classLetter.a2|\n",
      "+--------------+\n",
      "|             b|\n",
      "|            bb|\n",
      "+--------------+\n",
      "\n"
     ]
    },
    {
     "data": {
      "text/plain": [
       "(None, None)"
      ]
     },
     "execution_count": 19,
     "metadata": {},
     "output_type": "execute_result"
    }
   ],
   "source": [
    "# method 2 - might be useful if you want to create a function that takes in 'a1' as argument\n",
    "df1.select(df1.classLetter.getField('a1')).show(), df1.select(df1.classLetter.getField('a2')).show()"
   ]
  },
  {
   "cell_type": "markdown",
   "id": "bcdf9c40-40ae-4b2d-aced-e4ff4779a0c0",
   "metadata": {},
   "source": [
    "#### 2.91 getItem()\n",
    "- Similar to getField but gets an item at position n out of a list, or gets the item by key out of a dict\n",
    "\n",
    "Alternatively:\n",
    "- Use slicing to get it"
   ]
  },
  {
   "cell_type": "code",
   "execution_count": 36,
   "id": "b76ee548-500c-4426-9341-715cc81480d4",
   "metadata": {},
   "outputs": [],
   "source": [
    "df2 = spark.createDataFrame([([1,2], {'Key': 'value'})], ['lst', 'dict'])"
   ]
  },
  {
   "cell_type": "code",
   "execution_count": 38,
   "id": "0fc14fdf-49c8-42a7-8f7c-9b32aba5848b",
   "metadata": {},
   "outputs": [
    {
     "name": "stdout",
     "output_type": "stream",
     "text": [
      "+------+--------------+\n",
      "|   lst|          dict|\n",
      "+------+--------------+\n",
      "|[1, 2]|{Key -> value}|\n",
      "+------+--------------+\n",
      "\n"
     ]
    }
   ],
   "source": [
    "df2.show(5)"
   ]
  },
  {
   "cell_type": "code",
   "execution_count": 48,
   "id": "b2285c7d-dc15-43ea-8c09-9946821f3934",
   "metadata": {},
   "outputs": [
    {
     "name": "stdout",
     "output_type": "stream",
     "text": [
      "+------+---------+\n",
      "|lst[1]|dict[Key]|\n",
      "+------+---------+\n",
      "|     2|    value|\n",
      "+------+---------+\n",
      "\n"
     ]
    }
   ],
   "source": [
    "# Using getItem()\n",
    "df2.select(df2.lst.getItem(1), df2.dict.getItem('Key')).show()  #zero based indexing applies"
   ]
  },
  {
   "cell_type": "code",
   "execution_count": 50,
   "id": "62b4c690-64f2-4d1d-a1a1-5c6ce6592510",
   "metadata": {},
   "outputs": [
    {
     "name": "stdout",
     "output_type": "stream",
     "text": [
      "+------+---------+\n",
      "|lst[1]|dict[Key]|\n",
      "+------+---------+\n",
      "|     2|    value|\n",
      "+------+---------+\n",
      "\n"
     ]
    }
   ],
   "source": [
    "# using slicing\n",
    "df2.select(df2.lst[1], df2.dict['Key']).show()"
   ]
  },
  {
   "cell_type": "markdown",
   "id": "e9c2f2d6-fe5e-4d19-83c7-c71d1bd472a6",
   "metadata": {},
   "source": [
    "### 3. Conditional Statements \n",
    "- `when(), otherwise()`: Similar to if-else statements in SQL. Using this, we can check multiple conditions in sequence and return a value when the first condition is met\n",
    "- when must be imported from functions"
   ]
  },
  {
   "cell_type": "code",
   "execution_count": 56,
   "id": "b504ffcd-9a31-44da-9a86-116703830fbc",
   "metadata": {},
   "outputs": [
    {
     "name": "stdout",
     "output_type": "stream",
     "text": [
      "+----------------+\n",
      "|            page|\n",
      "+----------------+\n",
      "|Submit Downgrade|\n",
      "|            Home|\n",
      "|       Downgrade|\n",
      "|          Logout|\n",
      "|   Save Settings|\n",
      "|           About|\n",
      "|        Settings|\n",
      "|           Login|\n",
      "|        NextSong|\n",
      "|            Help|\n",
      "|         Upgrade|\n",
      "|           Error|\n",
      "|  Submit Upgrade|\n",
      "+----------------+\n",
      "\n"
     ]
    }
   ],
   "source": [
    "df.select('page').distinct().show()"
   ]
  },
  {
   "cell_type": "markdown",
   "id": "e5287f6c-cf94-4d7d-bb65-5600c3c6e54e",
   "metadata": {},
   "source": [
    "Task:\n",
    "- Derive a new field from page, where the new field has the following values in place of the originals\n",
    "\n",
    "- --> 'Downgrading' for 'Submit Downgrade' and 'Downgrade'\n",
    "- --> 'Upgrading' for ['Submit Upgrade', 'Upgrade']\n",
    "- --> 'logging out' for Logout\n",
    "- --> otherwise leave original values"
   ]
  },
  {
   "cell_type": "code",
   "execution_count": 70,
   "id": "79d070b1-bcd7-470e-8d80-81051dc87b54",
   "metadata": {},
   "outputs": [
    {
     "name": "stdout",
     "output_type": "stream",
     "text": [
      "+----------------+-------------+\n",
      "|            page|    method_ps|\n",
      "+----------------+-------------+\n",
      "|  Submit Upgrade|    Upgrading|\n",
      "|   Save Settings|Save Settings|\n",
      "|           About|        About|\n",
      "|          Logout|  logging out|\n",
      "|            Home|         Home|\n",
      "|       Downgrade|  Downgrading|\n",
      "|            Help|         Help|\n",
      "|        Settings|     Settings|\n",
      "|Submit Downgrade|  Downgrading|\n",
      "|           Login|        Login|\n",
      "+----------------+-------------+\n",
      "only showing top 10 rows\n",
      "\n"
     ]
    }
   ],
   "source": [
    "#only first instance of when is aliased, other instances arent\n",
    "df.select(df.page, \\\n",
    "         F.when(df.page.isin('Submit Downgrade', 'Downgrade'), 'Downgrading')\\\n",
    "         .when(df.page.isin('Submit Upgrade', 'Upgrade'), 'Upgrading')\\\n",
    "         .when(df.page == 'Logout', 'logging out')\\\n",
    "         .otherwise(df.page).alias('method_ps'))\\\n",
    "         .distinct().show(10)"
   ]
  },
  {
   "cell_type": "code",
   "execution_count": null,
   "id": "e9afee2a-08d1-4641-9fe1-32e7d8b92225",
   "metadata": {},
   "outputs": [],
   "source": []
  }
 ],
 "metadata": {
  "kernelspec": {
   "display_name": "Python 3",
   "language": "python",
   "name": "python3"
  },
  "language_info": {
   "codemirror_mode": {
    "name": "ipython",
    "version": 3
   },
   "file_extension": ".py",
   "mimetype": "text/x-python",
   "name": "python",
   "nbconvert_exporter": "python",
   "pygments_lexer": "ipython3",
   "version": "3.9.4"
  }
 },
 "nbformat": 4,
 "nbformat_minor": 5
}
