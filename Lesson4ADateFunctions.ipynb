{
 "cells": [
  {
   "cell_type": "markdown",
   "id": "cfd5718b-2a0c-4fbd-a875-69a6440aee0c",
   "metadata": {},
   "source": [
    "# Date functions"
   ]
  },
  {
   "cell_type": "code",
   "execution_count": 1,
   "id": "de71a49d-0e68-4a27-a215-eab9fa907789",
   "metadata": {},
   "outputs": [],
   "source": [
    "import pyspark\n",
    "from pyspark import SparkConf\n",
    "from pyspark.sql import SparkSession, Row\n",
    "import pyspark.sql.functions as F\n",
    "import pyspark.sql.window as W"
   ]
  },
  {
   "cell_type": "code",
   "execution_count": 2,
   "id": "f72ef3ba-db2d-4dfb-8599-9500645fd787",
   "metadata": {},
   "outputs": [],
   "source": [
    "spark = SparkSession \\\n",
    "    .builder \\\n",
    "    .appName(\"Spark Training - DF APIs\") \\\n",
    "    .getOrCreate()"
   ]
  },
  {
   "cell_type": "code",
   "execution_count": 3,
   "id": "fae738bd-19a0-40a6-88d1-2785c7d95ed6",
   "metadata": {},
   "outputs": [
    {
     "name": "stdout",
     "output_type": "stream",
     "text": [
      "+--------+-------------------+-----------------+---------------+\n",
      "|order_id|         order_date|order_customer_id|   order_status|\n",
      "+--------+-------------------+-----------------+---------------+\n",
      "|       1|2013-07-25 00:00:00|            11599|         CLOSED|\n",
      "|       2|2013-07-25 00:00:00|              256|PENDING_PAYMENT|\n",
      "|       3|2013-07-25 00:00:00|            12111|       COMPLETE|\n",
      "|       4|2013-07-25 00:00:00|             8827|         CLOSED|\n",
      "|       5|2013-07-25 00:00:00|            11318|       COMPLETE|\n",
      "+--------+-------------------+-----------------+---------------+\n",
      "only showing top 5 rows\n",
      "\n"
     ]
    }
   ],
   "source": [
    "ord = spark.read.load('PracticeFiles/Orders', sep=',', format='csv', schema=('order_id int,order_date timestamp, order_customer_id int, order_status string'))\n",
    "ord.show(5)"
   ]
  },
  {
   "cell_type": "code",
   "execution_count": 5,
   "id": "c059efcc-be74-4a9b-9d14-4c5ce0dfe871",
   "metadata": {},
   "outputs": [
    {
     "name": "stdout",
     "output_type": "stream",
     "text": [
      "+--------+-------------------+-----------------+---------------+--------------+\n",
      "|order_id|         order_date|order_customer_id|   order_status|new_order_date|\n",
      "+--------+-------------------+-----------------+---------------+--------------+\n",
      "|       1|2013-07-25 00:00:00|            11599|         CLOSED|    2013-09-13|\n",
      "|       2|2013-07-25 00:00:00|              256|PENDING_PAYMENT|    2013-09-13|\n",
      "|       3|2013-07-25 00:00:00|            12111|       COMPLETE|    2013-09-13|\n",
      "|       4|2013-07-25 00:00:00|             8827|         CLOSED|    2013-09-13|\n",
      "|       5|2013-07-25 00:00:00|            11318|       COMPLETE|    2013-09-13|\n",
      "+--------+-------------------+-----------------+---------------+--------------+\n",
      "only showing top 5 rows\n",
      "\n"
     ]
    }
   ],
   "source": [
    "ord_new = ord.withColumn('new_order_date', F.date_add(ord.order_date, 50))\n",
    "ord_new.show(5)"
   ]
  },
  {
   "cell_type": "markdown",
   "id": "34385b1e-2a3f-473d-ae95-d3e2959381f6",
   "metadata": {},
   "source": [
    "### 1. current_date(), current_timestamp()\n",
    "- Returns current date, timestamp"
   ]
  },
  {
   "cell_type": "code",
   "execution_count": 7,
   "id": "626d8563-5882-4b45-8a76-3c13f55a7064",
   "metadata": {},
   "outputs": [
    {
     "name": "stdout",
     "output_type": "stream",
     "text": [
      "+--------+-------------------+-----------------+---------------+------------+\n",
      "|order_id|         order_date|order_customer_id|   order_status|current_date|\n",
      "+--------+-------------------+-----------------+---------------+------------+\n",
      "|       1|2013-07-25 00:00:00|            11599|         CLOSED|  2022-01-27|\n",
      "|       2|2013-07-25 00:00:00|              256|PENDING_PAYMENT|  2022-01-27|\n",
      "|       3|2013-07-25 00:00:00|            12111|       COMPLETE|  2022-01-27|\n",
      "|       4|2013-07-25 00:00:00|             8827|         CLOSED|  2022-01-27|\n",
      "|       5|2013-07-25 00:00:00|            11318|       COMPLETE|  2022-01-27|\n",
      "+--------+-------------------+-----------------+---------------+------------+\n",
      "only showing top 5 rows\n",
      "\n"
     ]
    }
   ],
   "source": [
    "# current_date\n",
    "ord.withColumn('current_date', F.current_date()).show(5)"
   ]
  },
  {
   "cell_type": "code",
   "execution_count": 9,
   "id": "c9da6ed3-6052-4c24-acbe-31fddc45d07e",
   "metadata": {},
   "outputs": [
    {
     "name": "stdout",
     "output_type": "stream",
     "text": [
      "+--------+-------------------+-----------------+---------------+-----------------------+\n",
      "|order_id|order_date         |order_customer_id|order_status   |current_ts             |\n",
      "+--------+-------------------+-----------------+---------------+-----------------------+\n",
      "|1       |2013-07-25 00:00:00|11599            |CLOSED         |2022-01-27 14:46:14.179|\n",
      "|2       |2013-07-25 00:00:00|256              |PENDING_PAYMENT|2022-01-27 14:46:14.179|\n",
      "|3       |2013-07-25 00:00:00|12111            |COMPLETE       |2022-01-27 14:46:14.179|\n",
      "|4       |2013-07-25 00:00:00|8827             |CLOSED         |2022-01-27 14:46:14.179|\n",
      "|5       |2013-07-25 00:00:00|11318            |COMPLETE       |2022-01-27 14:46:14.179|\n",
      "+--------+-------------------+-----------------+---------------+-----------------------+\n",
      "only showing top 5 rows\n",
      "\n"
     ]
    }
   ],
   "source": [
    "# current timestamp\n",
    "ord.withColumn('current_ts', F.current_timestamp()).show(5, truncate=False)"
   ]
  },
  {
   "cell_type": "markdown",
   "id": "a6c5e59a-acf1-4b4a-b62d-719813348711",
   "metadata": {},
   "source": [
    "### 2. next_day(date, dayOfWeek)\n",
    "- Returns the first date which is later than the value of the date column\n",
    "- e.g. return the next monday to a provided date\n",
    "- dayOfWeek: Mon, Tue, Wed, Thu, Fri, Sat, Sun"
   ]
  },
  {
   "cell_type": "code",
   "execution_count": 12,
   "id": "50cc7e14-7a70-497c-8dbf-a89167499662",
   "metadata": {},
   "outputs": [
    {
     "name": "stdout",
     "output_type": "stream",
     "text": [
      "root\n",
      " |-- order_id: integer (nullable = true)\n",
      " |-- order_date: timestamp (nullable = true)\n",
      " |-- order_customer_id: integer (nullable = true)\n",
      " |-- order_status: string (nullable = true)\n",
      "\n"
     ]
    }
   ],
   "source": [
    "ord.printSchema()"
   ]
  },
  {
   "cell_type": "code",
   "execution_count": 16,
   "id": "0c49f652-f002-48b8-95cd-de5b8e33a07d",
   "metadata": {},
   "outputs": [
    {
     "name": "stdout",
     "output_type": "stream",
     "text": [
      "+-------------------+-------------------------+\n",
      "|order_date         |next_day(order_date, Fri)|\n",
      "+-------------------+-------------------------+\n",
      "|2013-12-31 00:00:00|2014-01-03               |\n",
      "|2014-06-02 00:00:00|2014-06-06               |\n",
      "|2013-08-10 00:00:00|2013-08-16               |\n",
      "|2013-09-01 00:00:00|2013-09-06               |\n",
      "|2014-01-12 00:00:00|2014-01-17               |\n",
      "+-------------------+-------------------------+\n",
      "only showing top 5 rows\n",
      "\n"
     ]
    }
   ],
   "source": [
    "# next day\n",
    "ord.select('order_date', F.next_day(ord.order_date, 'Fri'))\\\n",
    "    .distinct()\\\n",
    "    .show(5, truncate=False)"
   ]
  },
  {
   "cell_type": "markdown",
   "id": "182ca160-690c-4d59-82a5-f24ca72a013c",
   "metadata": {},
   "source": [
    "### 3. last_day(date)\n",
    "- Returns the last day of the month which the given date belongs to"
   ]
  },
  {
   "cell_type": "code",
   "execution_count": 18,
   "id": "85ff8e64-0ef7-43b2-b003-234aaa1095e6",
   "metadata": {},
   "outputs": [
    {
     "name": "stdout",
     "output_type": "stream",
     "text": [
      "+-------------------+--------------------+\n",
      "|order_date         |last_day(order_date)|\n",
      "+-------------------+--------------------+\n",
      "|2013-11-30 00:00:00|2013-11-30          |\n",
      "|2013-12-22 00:00:00|2013-12-31          |\n",
      "|2013-11-12 00:00:00|2013-11-30          |\n",
      "|2013-10-19 00:00:00|2013-10-31          |\n",
      "|2014-05-17 00:00:00|2014-05-31          |\n",
      "+-------------------+--------------------+\n",
      "only showing top 5 rows\n",
      "\n"
     ]
    }
   ],
   "source": [
    "# last day of month\n",
    "ord.select('order_date', F.last_day(ord.order_date))\\\n",
    "    .distinct()\\\n",
    "    .show(5, truncate=False)"
   ]
  },
  {
   "cell_type": "markdown",
   "id": "af9efc76-129d-4ce2-b648-b9b2db31378a",
   "metadata": {},
   "source": [
    "### 4. dayofweek(col), dayofmonth(col), dayofyear(col), weekofyear(col)"
   ]
  },
  {
   "cell_type": "code",
   "execution_count": 19,
   "id": "a017b438-67ed-443a-ae42-b60a42cf2622",
   "metadata": {},
   "outputs": [
    {
     "name": "stdout",
     "output_type": "stream",
     "text": [
      "+-------------------+---------------------+----------------------+---------------------+----------------------+\n",
      "|order_date         |dayofweek(order_date)|dayofmonth(order_date)|dayofyear(order_date)|weekofyear(order_date)|\n",
      "+-------------------+---------------------+----------------------+---------------------+----------------------+\n",
      "|2014-01-27 00:00:00|2                    |27                    |27                   |5                     |\n",
      "|2014-04-03 00:00:00|5                    |3                     |93                   |14                    |\n",
      "|2014-05-16 00:00:00|6                    |16                    |136                  |20                    |\n",
      "|2013-09-02 00:00:00|2                    |2                     |245                  |36                    |\n",
      "|2013-08-01 00:00:00|5                    |1                     |213                  |31                    |\n",
      "+-------------------+---------------------+----------------------+---------------------+----------------------+\n",
      "only showing top 5 rows\n",
      "\n"
     ]
    }
   ],
   "source": [
    "ord.select('order_date', F.dayofweek(ord.order_date), F.dayofmonth(ord.order_date), F.dayofyear(ord.order_date), F.weekofyear(ord.order_date))\\\n",
    "    .distinct()\\\n",
    "    .show(5, truncate=False)"
   ]
  },
  {
   "cell_type": "markdown",
   "id": "080a15ba-01e3-4016-8150-aa52ac345759",
   "metadata": {},
   "source": [
    "### 5. second(col), minute(col), hour(col), month(col), quarter(col), year(col)"
   ]
  },
  {
   "cell_type": "code",
   "execution_count": 20,
   "id": "439cf61a-a814-4c2e-9131-559868cbc0a8",
   "metadata": {},
   "outputs": [
    {
     "name": "stdout",
     "output_type": "stream",
     "text": [
      "+-------------------+------------------+\n",
      "|order_date         |second(order_date)|\n",
      "+-------------------+------------------+\n",
      "|2013-07-29 00:00:00|0                 |\n",
      "|2014-07-17 00:00:00|0                 |\n",
      "|2014-07-22 00:00:00|0                 |\n",
      "|2013-10-17 00:00:00|0                 |\n",
      "|2013-12-23 00:00:00|0                 |\n",
      "+-------------------+------------------+\n",
      "only showing top 5 rows\n",
      "\n"
     ]
    }
   ],
   "source": [
    "ord.select('order_date', F.second(ord.order_date))\\\n",
    "    .distinct()\\\n",
    "    .show(5, truncate=False)"
   ]
  },
  {
   "cell_type": "markdown",
   "id": "e43b3d60-1245-4332-8b04-7e45acafb4dd",
   "metadata": {},
   "source": [
    "### 6. months_between(date1, date2, roundOff=True)\n",
    "The result is rounded off to 8 digits unless `roundOff` is set to False"
   ]
  },
  {
   "cell_type": "code",
   "execution_count": 22,
   "id": "9fc921aa-3c0a-4d05-9bec-fec228f1a5bb",
   "metadata": {},
   "outputs": [
    {
     "name": "stdout",
     "output_type": "stream",
     "text": [
      "+-------------------+------------------------------------------------+\n",
      "|order_date         |months_between(order_date, current_date(), true)|\n",
      "+-------------------+------------------------------------------------+\n",
      "|2013-09-22 00:00:00|-100.16129032                                   |\n",
      "|2014-05-31 00:00:00|-91.87096774                                    |\n",
      "|2013-09-24 00:00:00|-100.09677419                                   |\n",
      "|2013-12-08 00:00:00|-97.61290323                                    |\n",
      "|2014-06-29 00:00:00|-90.93548387                                    |\n",
      "+-------------------+------------------------------------------------+\n",
      "only showing top 5 rows\n",
      "\n"
     ]
    }
   ],
   "source": [
    "# work out number of months between order date and today\n",
    "ord.select('order_date', F.months_between(ord.order_date, F.current_date()))\\\n",
    "    .distinct()\\\n",
    "    .show(5, truncate=False)"
   ]
  },
  {
   "cell_type": "code",
   "execution_count": 24,
   "id": "995be781-10e1-404d-9e8b-e4cc2518e925",
   "metadata": {},
   "outputs": [
    {
     "name": "stdout",
     "output_type": "stream",
     "text": [
      "+-------------------+-------------------------------------------------+\n",
      "|order_date         |months_between(order_date, current_date(), false)|\n",
      "+-------------------+-------------------------------------------------+\n",
      "|2013-09-17 00:00:00|-100.3225806451613                               |\n",
      "|2013-12-13 00:00:00|-97.45161290322581                               |\n",
      "|2014-05-28 00:00:00|-91.96774193548387                               |\n",
      "|2014-02-06 00:00:00|-95.6774193548387                                |\n",
      "|2013-10-21 00:00:00|-99.19354838709677                               |\n",
      "+-------------------+-------------------------------------------------+\n",
      "only showing top 5 rows\n",
      "\n"
     ]
    }
   ],
   "source": [
    "ord.select('order_date', F.months_between(ord.order_date, F.current_date(), roundOff=False))\\\n",
    "    .distinct()\\\n",
    "    .show(5, truncate=False)"
   ]
  },
  {
   "cell_type": "markdown",
   "id": "b6e433be-c99b-480d-8891-9c50c3fbb384",
   "metadata": {},
   "source": [
    "### 7. date_add(start, days), date_sub(start, days), add_months(start, months)\n",
    "- Adds, or subtracts Number of days. Adds months"
   ]
  },
  {
   "cell_type": "code",
   "execution_count": 28,
   "id": "a6f5bf8b-a068-4c91-bf4d-376d21dfdbf7",
   "metadata": {},
   "outputs": [
    {
     "name": "stdout",
     "output_type": "stream",
     "text": [
      "+-------------------+------------+------------+\n",
      "|order_date         |date_plus_5d|date_plus_5m|\n",
      "+-------------------+------------+------------+\n",
      "|2013-08-26 00:00:00|2013-08-31  |2014-01-26  |\n",
      "|2014-03-03 00:00:00|2014-03-08  |2014-08-03  |\n",
      "|2013-11-14 00:00:00|2013-11-19  |2014-04-14  |\n",
      "|2013-12-06 00:00:00|2013-12-11  |2014-05-06  |\n",
      "|2013-08-13 00:00:00|2013-08-18  |2014-01-13  |\n",
      "+-------------------+------------+------------+\n",
      "only showing top 5 rows\n",
      "\n"
     ]
    }
   ],
   "source": [
    "# add 5 days and 5 months to order date\n",
    "ord.select('order_date', F.date_add(ord.order_date, 5).alias('date_plus_5d'), F.add_months(ord.order_date, 5).alias('date_plus_5m'))\\\n",
    "    .distinct()\\\n",
    "    .show(5, truncate=False)"
   ]
  },
  {
   "cell_type": "markdown",
   "id": "a8cd9e08-6120-4637-ba6a-68d6a2f248b3",
   "metadata": {},
   "source": [
    "### 8. datediff(end, start)\n",
    "Returns number of days from 'start' to 'end'"
   ]
  },
  {
   "cell_type": "code",
   "execution_count": 34,
   "id": "b8d1dcb0-713b-4420-8eed-99c32fd95cd6",
   "metadata": {},
   "outputs": [
    {
     "name": "stdout",
     "output_type": "stream",
     "text": [
      "+-------------------+--------------+------------------------------------+\n",
      "|         order_date|current_date()|datediff(order_date, current_date())|\n",
      "+-------------------+--------------+------------------------------------+\n",
      "|2013-08-27 00:00:00|    2022-01-27|                               -3075|\n",
      "|2014-06-14 00:00:00|    2022-01-27|                               -2784|\n",
      "|2013-08-16 00:00:00|    2022-01-27|                               -3086|\n",
      "|2013-09-13 00:00:00|    2022-01-27|                               -3058|\n",
      "|2014-04-02 00:00:00|    2022-01-27|                               -2857|\n",
      "+-------------------+--------------+------------------------------------+\n",
      "only showing top 5 rows\n",
      "\n"
     ]
    }
   ],
   "source": [
    "ord.select('order_date',F.current_date(), F.datediff('order_date', F.current_date())).distinct().show(5)"
   ]
  },
  {
   "cell_type": "markdown",
   "id": "8d327901-a877-4476-a69e-8e485141690b",
   "metadata": {},
   "source": [
    "### 9. date_trunc(format, timestamp)\n",
    "- Returns timestamp truncated to the unit specified by the format\n",
    "- format: 'year', 'yyyy', 'yy', 'month', 'mon', 'mm', 'day', 'dd', 'hour', 'minute', 'second', 'week', 'quarter'"
   ]
  },
  {
   "cell_type": "code",
   "execution_count": 41,
   "id": "791b871b-a209-4136-b35d-3bb0ee605dbd",
   "metadata": {},
   "outputs": [
    {
     "name": "stdout",
     "output_type": "stream",
     "text": [
      "+-------------------+-------------------+\n",
      "|         order_date|    first_day_of_yr|\n",
      "+-------------------+-------------------+\n",
      "|2013-07-25 00:00:00|2013-01-01 00:00:00|\n",
      "|2013-07-25 00:00:00|2013-01-01 00:00:00|\n",
      "|2013-07-25 00:00:00|2013-01-01 00:00:00|\n",
      "|2013-07-25 00:00:00|2013-01-01 00:00:00|\n",
      "|2013-07-25 00:00:00|2013-01-01 00:00:00|\n",
      "+-------------------+-------------------+\n",
      "only showing top 5 rows\n",
      "\n"
     ]
    }
   ],
   "source": [
    "ord.select('order_date', F.date_trunc('yyyy', ord.order_date).alias('first_day_of_yr')).show(5)"
   ]
  },
  {
   "cell_type": "code",
   "execution_count": 40,
   "id": "bd9c7029-c9a9-4647-89e3-92d0febe755c",
   "metadata": {},
   "outputs": [
    {
     "name": "stdout",
     "output_type": "stream",
     "text": [
      "+-------------------+-------------------+\n",
      "|         order_date| first_day_of_month|\n",
      "+-------------------+-------------------+\n",
      "|2013-07-25 00:00:00|2013-07-01 00:00:00|\n",
      "|2013-07-25 00:00:00|2013-07-01 00:00:00|\n",
      "|2013-07-25 00:00:00|2013-07-01 00:00:00|\n",
      "|2013-07-25 00:00:00|2013-07-01 00:00:00|\n",
      "|2013-07-25 00:00:00|2013-07-01 00:00:00|\n",
      "+-------------------+-------------------+\n",
      "only showing top 5 rows\n",
      "\n"
     ]
    }
   ],
   "source": [
    "ord.select('order_date', F.date_trunc('mm', ord.order_date).alias('first_day_of_month')).show(5)"
   ]
  },
  {
   "cell_type": "markdown",
   "id": "a2f4d2a7-8174-4287-ace1-515442524e06",
   "metadata": {},
   "source": [
    "### 10. date_format(date, format)\n",
    "converts a date/timestamp/string to a value of string in the format specified by the date"
   ]
  },
  {
   "cell_type": "code",
   "execution_count": 44,
   "id": "12aaf777-afac-4c42-8e40-5f473ebcdb5a",
   "metadata": {},
   "outputs": [
    {
     "name": "stdout",
     "output_type": "stream",
     "text": [
      "+--------+-------------------+-----------------+---------------+\n",
      "|order_id|         order_date|order_customer_id|   order_status|\n",
      "+--------+-------------------+-----------------+---------------+\n",
      "|       1|2013-07-25 00:00:00|            11599|         CLOSED|\n",
      "|       2|2013-07-25 00:00:00|              256|PENDING_PAYMENT|\n",
      "|       3|2013-07-25 00:00:00|            12111|       COMPLETE|\n",
      "|       4|2013-07-25 00:00:00|             8827|         CLOSED|\n",
      "|       5|2013-07-25 00:00:00|            11318|       COMPLETE|\n",
      "+--------+-------------------+-----------------+---------------+\n",
      "only showing top 5 rows\n",
      "\n"
     ]
    }
   ],
   "source": [
    "ord.show(5)"
   ]
  },
  {
   "cell_type": "code",
   "execution_count": 51,
   "id": "2280264e-e908-40d1-add1-277a8f9cdae3",
   "metadata": {},
   "outputs": [
    {
     "name": "stdout",
     "output_type": "stream",
     "text": [
      "+-------------------+---------------+\n",
      "|         order_date|reformated_date|\n",
      "+-------------------+---------------+\n",
      "|2013-07-25 00:00:00|     2013/07/25|\n",
      "|2013-07-25 00:00:00|     2013/07/25|\n",
      "|2013-07-25 00:00:00|     2013/07/25|\n",
      "|2013-07-25 00:00:00|     2013/07/25|\n",
      "|2013-07-25 00:00:00|     2013/07/25|\n",
      "+-------------------+---------------+\n",
      "only showing top 5 rows\n",
      "\n"
     ]
    }
   ],
   "source": [
    "ord.select('order_date', F.date_format(ord.order_date, 'yyyy/MM/dd').alias('reformated_date')).show(5)"
   ]
  },
  {
   "cell_type": "markdown",
   "id": "00f6fcdd-61d2-4367-9aa2-9a92ac0ac698",
   "metadata": {},
   "source": [
    "### 11. unix_timestamp(timestamp=None, format='yyyy-MM-dd HH:mm:ss')\n",
    "converts times tring with given pattern (yyyy-MM-dd HH:mm:ss) to Unix time stamp (in seconds)"
   ]
  },
  {
   "cell_type": "code",
   "execution_count": 53,
   "id": "eee72f0f-4c83-4c78-811e-4bc338cec28d",
   "metadata": {},
   "outputs": [
    {
     "name": "stdout",
     "output_type": "stream",
     "text": [
      "+--------------------+--------------------------------------------------------+\n",
      "| current_timestamp()|unix_timestamp(current_timestamp(), yyyy-MM-dd HH:mm:ss)|\n",
      "+--------------------+--------------------------------------------------------+\n",
      "|2022-01-27 16:10:...|                                              1643299857|\n",
      "+--------------------+--------------------------------------------------------+\n",
      "\n"
     ]
    }
   ],
   "source": [
    "spark.range(1).select(F.current_timestamp(), F.unix_timestamp(F.current_timestamp())).show()"
   ]
  },
  {
   "cell_type": "markdown",
   "id": "677cf80f-64c1-46ac-aa14-daa9b90505ff",
   "metadata": {},
   "source": [
    "### 12. to_timestamp()\n",
    "converts a column into timestamp"
   ]
  },
  {
   "cell_type": "code",
   "execution_count": 54,
   "id": "221e5025-f454-469a-98df-3bfeca33da77",
   "metadata": {},
   "outputs": [
    {
     "name": "stdout",
     "output_type": "stream",
     "text": [
      "+-------------------+\n",
      "|                  t|\n",
      "+-------------------+\n",
      "|1997-02-28 10:30:00|\n",
      "+-------------------+\n",
      "\n"
     ]
    }
   ],
   "source": [
    "df = spark.createDataFrame([('1997-02-28 10:30:00',)], ['t'])\n",
    "df.show()"
   ]
  },
  {
   "cell_type": "code",
   "execution_count": 55,
   "id": "8d500d5f-1dd2-46cb-8e6b-dc89901b262d",
   "metadata": {},
   "outputs": [
    {
     "name": "stdout",
     "output_type": "stream",
     "text": [
      "root\n",
      " |-- t: string (nullable = true)\n",
      "\n"
     ]
    }
   ],
   "source": [
    "# verify that t is not a timestamp\n",
    "df.printSchema()"
   ]
  },
  {
   "cell_type": "code",
   "execution_count": 56,
   "id": "b437283f-22b5-4ecb-853d-d859333c20f4",
   "metadata": {},
   "outputs": [
    {
     "name": "stdout",
     "output_type": "stream",
     "text": [
      "+-------------------+\n",
      "|    to_timestamp(t)|\n",
      "+-------------------+\n",
      "|1997-02-28 10:30:00|\n",
      "+-------------------+\n",
      "\n"
     ]
    }
   ],
   "source": [
    "df.select(F.to_timestamp(df.t)).show()"
   ]
  },
  {
   "cell_type": "markdown",
   "id": "7e2f6322-2fea-4460-94ab-cce385f264e1",
   "metadata": {},
   "source": [
    "### 13. from_unixtime(timestamp, format='yyyy-MM-dd HH:mm:ss')\n",
    "Converts the number of seconds from unix epoch (1970-01-01 00:00:00 UTC) to string representing the timestamp of that moment in the current system time zone in the given format"
   ]
  },
  {
   "cell_type": "code",
   "execution_count": 58,
   "id": "747037a2-78c9-45e2-b638-ed525a58cc4b",
   "metadata": {},
   "outputs": [
    {
     "name": "stdout",
     "output_type": "stream",
     "text": [
      "+----------+\n",
      "| unix_time|\n",
      "+----------+\n",
      "|1428476400|\n",
      "+----------+\n",
      "\n"
     ]
    }
   ],
   "source": [
    "time_df = spark.createDataFrame([(1428476400,)], ['unix_time'])\n",
    "time_df.show()"
   ]
  },
  {
   "cell_type": "code",
   "execution_count": 59,
   "id": "e0ed6ec2-3c1c-4dd8-81af-dd308408386a",
   "metadata": {},
   "outputs": [
    {
     "name": "stdout",
     "output_type": "stream",
     "text": [
      "+---------------------------------------------+\n",
      "|from_unixtime(unix_time, yyyy-MM-dd HH:mm:ss)|\n",
      "+---------------------------------------------+\n",
      "|                          2015-04-08 08:00:00|\n",
      "+---------------------------------------------+\n",
      "\n"
     ]
    }
   ],
   "source": [
    "time_df.select(F.from_unixtime('unix_time')).show()"
   ]
  },
  {
   "cell_type": "markdown",
   "id": "94d7c7e1-73c5-4600-87e3-160336200c0c",
   "metadata": {},
   "source": [
    "### 14 from_utc_timestamp(timestamp, tz)\n",
    "This is a common function for databases supporting TIMESTAMP WITHOUT TIMEZONE. this function takes a timestamp which is timezone-agnostic, and interprets it as a timestamp in UTC, and renders timestamp as a timestamp in the given zone"
   ]
  },
  {
   "cell_type": "code",
   "execution_count": 62,
   "id": "fc1dd514-63f8-41f4-bf65-ceabe8c85635",
   "metadata": {},
   "outputs": [
    {
     "name": "stdout",
     "output_type": "stream",
     "text": [
      "+-------------------+---+\n",
      "|                 ts| tz|\n",
      "+-------------------+---+\n",
      "|1997-02-28 10:30:00|JST|\n",
      "+-------------------+---+\n",
      "\n"
     ]
    }
   ],
   "source": [
    "df = spark.createDataFrame([('1997-02-28 10:30:00', 'JST')], ['ts', 'tz'])\n",
    "df.show()"
   ]
  },
  {
   "cell_type": "code",
   "execution_count": 65,
   "id": "505b9f28-21d5-4517-abc3-4e96e9b5c711",
   "metadata": {},
   "outputs": [
    {
     "name": "stdout",
     "output_type": "stream",
     "text": [
      "+-------------------+-------------------+\n",
      "|                 ts|           pst_time|\n",
      "+-------------------+-------------------+\n",
      "|1997-02-28 10:30:00|1997-02-28 02:30:00|\n",
      "+-------------------+-------------------+\n",
      "\n"
     ]
    }
   ],
   "source": [
    "df.select('ts',F.from_utc_timestamp(df.ts, 'PST').alias('pst_time')).show()"
   ]
  },
  {
   "cell_type": "markdown",
   "id": "447604c8-9815-4aaa-9f6c-909b99074fc9",
   "metadata": {},
   "source": [
    "### 15. to_date(col, format=None)\n",
    "convert to date format (from timestamp)"
   ]
  },
  {
   "cell_type": "code",
   "execution_count": 66,
   "id": "7bb91cb1-03c7-4e31-a7c7-a17c47820cf5",
   "metadata": {},
   "outputs": [
    {
     "name": "stdout",
     "output_type": "stream",
     "text": [
      "+--------+-------------------+-----------------+---------------+\n",
      "|order_id|         order_date|order_customer_id|   order_status|\n",
      "+--------+-------------------+-----------------+---------------+\n",
      "|       1|2013-07-25 00:00:00|            11599|         CLOSED|\n",
      "|       2|2013-07-25 00:00:00|              256|PENDING_PAYMENT|\n",
      "|       3|2013-07-25 00:00:00|            12111|       COMPLETE|\n",
      "|       4|2013-07-25 00:00:00|             8827|         CLOSED|\n",
      "|       5|2013-07-25 00:00:00|            11318|       COMPLETE|\n",
      "+--------+-------------------+-----------------+---------------+\n",
      "only showing top 5 rows\n",
      "\n"
     ]
    }
   ],
   "source": [
    "ord.show(5)"
   ]
  },
  {
   "cell_type": "code",
   "execution_count": 67,
   "id": "e4c24f38-8278-4cc7-a180-4543dadf193c",
   "metadata": {},
   "outputs": [
    {
     "name": "stdout",
     "output_type": "stream",
     "text": [
      "root\n",
      " |-- order_id: integer (nullable = true)\n",
      " |-- order_date: timestamp (nullable = true)\n",
      " |-- order_customer_id: integer (nullable = true)\n",
      " |-- order_status: string (nullable = true)\n",
      "\n"
     ]
    }
   ],
   "source": [
    "ord.printSchema()"
   ]
  },
  {
   "cell_type": "code",
   "execution_count": 70,
   "id": "41e4e46d-e28c-4fd5-8b8d-6067fc745915",
   "metadata": {},
   "outputs": [
    {
     "name": "stdout",
     "output_type": "stream",
     "text": [
      "+-------------------+-------------------------------+\n",
      "|         order_date|to_date(order_date, yyyy-mm-dd)|\n",
      "+-------------------+-------------------------------+\n",
      "|2013-07-25 00:00:00|                     2013-07-25|\n",
      "|2013-07-25 00:00:00|                     2013-07-25|\n",
      "|2013-07-25 00:00:00|                     2013-07-25|\n",
      "|2013-07-25 00:00:00|                     2013-07-25|\n",
      "|2013-07-25 00:00:00|                     2013-07-25|\n",
      "+-------------------+-------------------------------+\n",
      "only showing top 5 rows\n",
      "\n"
     ]
    }
   ],
   "source": [
    "# lets convert the order_date from timestamp to datetime\n",
    "ord.select('order_date', F.to_date('order_date', 'yyyy-mm-dd')).show(5)"
   ]
  },
  {
   "cell_type": "code",
   "execution_count": null,
   "id": "6a61d807-8678-466b-995c-b1ec475c079a",
   "metadata": {},
   "outputs": [],
   "source": [
    "a"
   ]
  }
 ],
 "metadata": {
  "kernelspec": {
   "display_name": "Python 3",
   "language": "python",
   "name": "python3"
  },
  "language_info": {
   "codemirror_mode": {
    "name": "ipython",
    "version": 3
   },
   "file_extension": ".py",
   "mimetype": "text/x-python",
   "name": "python",
   "nbconvert_exporter": "python",
   "pygments_lexer": "ipython3",
   "version": "3.9.4"
  }
 },
 "nbformat": 4,
 "nbformat_minor": 5
}
