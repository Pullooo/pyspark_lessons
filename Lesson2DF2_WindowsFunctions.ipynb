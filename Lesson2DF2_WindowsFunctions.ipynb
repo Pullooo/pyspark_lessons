{
 "cells": [
  {
   "cell_type": "code",
   "execution_count": 3,
   "id": "a1953a8b-c11e-4193-8f8c-b625b1b044a1",
   "metadata": {},
   "outputs": [],
   "source": [
    "import pyspark\n",
    "from pyspark import SparkConf\n",
    "from pyspark.sql import SparkSession, Row\n",
    "import pyspark.sql.functions as F\n",
    "import pyspark.sql.window as W"
   ]
  },
  {
   "cell_type": "code",
   "execution_count": 2,
   "id": "3c9c75ae-14e0-43f7-a7c2-fcf9cf01eabc",
   "metadata": {},
   "outputs": [],
   "source": [
    "spark = SparkSession \\\n",
    "    .builder \\\n",
    "    .appName(\"Spark Training - DF APIs\") \\\n",
    "    .getOrCreate()"
   ]
  },
  {
   "cell_type": "markdown",
   "id": "8413ae1b-5e0e-4f7c-a4ea-2bf0472d4c63",
   "metadata": {},
   "source": [
    "## 1. Windows Functions\n",
    "- Operate on a group of rows and return a single value for each input row\n",
    "- Main package: pyspark.sql.window which has two classes - Window and WindowSpec\n",
    "- Window class has APIs such as partitionBy, orderBy, rengeBetween, rowsBetween\n",
    "- WindowSpec class defines the partitioning, ordering and frame boundaries. It has also above 4 APIs\n",
    "- When you apply these APIs (e.g. partitionBy), a WindowSpec object will be created. Then you can apply other functions on the spec object to get the output\n",
    "\n",
    "#### How to perform a window function\n",
    "1. First partition data using Window.partitionBy\n",
    "\n",
    "#### Typs of window functions:\n",
    "- Ranking\n",
    "- Analytical\n",
    "- Aggregate"
   ]
  },
  {
   "cell_type": "code",
   "execution_count": 76,
   "id": "f01c320f-661e-4033-96fe-f6e1c1666174",
   "metadata": {},
   "outputs": [
    {
     "name": "stdout",
     "output_type": "stream",
     "text": [
      "+-------+---------+-----+------+---+\n",
      "|empname|     dept|state|salary|age|\n",
      "+-------+---------+-----+------+---+\n",
      "|  James|    Sales|   NY|   900| 34|\n",
      "| Alicia|    Sales|   NY|  8600| 56|\n",
      "| Robert|    Sales|   CA|  8100| 30|\n",
      "|   John|    Sales|   AZ|  8600| 31|\n",
      "|   Rose|    Sales|   AZ|  8100| 33|\n",
      "|   Lisa|  Finance|   CA|  9000| 24|\n",
      "|   Deja|  Finance|   CA|  9900| 40|\n",
      "|  Sugie|  Finance|   NY|  8300| 36|\n",
      "|    Ram|  Finance|   NY|  7900| 53|\n",
      "|   Kyle|Marketing|   CA|  8000| 25|\n",
      "|   Reid|Marketing|   NY|  9100| 50|\n",
      "+-------+---------+-----+------+---+\n",
      "\n"
     ]
    }
   ],
   "source": [
    "# Prepare input data\n",
    "data = [\n",
    "    ('James', 'Sales', 'NY', 900, 34),\n",
    "    ('Alicia', 'Sales', 'NY', 8600, 56),\n",
    "    ('Robert', 'Sales', 'CA', 8100, 30),\n",
    "    ('John', 'Sales', 'AZ', 8600, 31),\n",
    "    ('Rose', 'Sales', 'AZ', 8100, 33),\n",
    "    ('Lisa', 'Finance', 'CA', 9000, 24),\n",
    "    ('Deja', 'Finance', 'CA', 9900, 40),\n",
    "    ('Sugie', 'Finance', 'NY', 8300, 36),\n",
    "    ('Ram', 'Finance', 'NY', 7900, 53),\n",
    "    ('Kyle', 'Marketing', 'CA', 8000, 25),\n",
    "    ('Reid', 'Marketing', 'NY', 9100, 50)\n",
    "]\n",
    "\n",
    "schema = ['empname', 'dept', 'state', 'salary', 'age']\n",
    "df = spark.createDataFrame(data=data, schema=schema)\n",
    "\n",
    "df.show()"
   ]
  },
  {
   "cell_type": "markdown",
   "id": "912b8363-9953-403f-93b2-e95c8c913d76",
   "metadata": {},
   "source": [
    "#### 1.1 Ranking Functions\n",
    "Used to provide a ranking to the result within a partition\n",
    "- `row_number():` creates sequential Row numbers\n",
    "- `rank():` creates Ranks but gaps when ties are present\n",
    "- `dense_rank():` creates ranks without gaps\n",
    "- `percent_rank():` creates relative rank (i.e. percentile) of rows within a window partition. First row is always 0 and last row is always 1\n",
    "- `ntile():` returns the ntile group id (from 1 to n inclusive) in an ordered window partition. e.g. if n = 4, the first quarter of the rows will get value 1, the second quarter will get 2, the third quarter will get 3, the last quarter will get 4\n",
    "- `cume_dist():` Returns the cumulative distribution of values within a window partition i.e. the fraction of rows that are below the current row\n",
    "\n",
    "\n",
    "`Note:` ordering is required"
   ]
  },
  {
   "cell_type": "markdown",
   "id": "bb8cf4f1-ac3d-4932-bf18-cac0a0073e49",
   "metadata": {},
   "source": [
    "Task 1: Create a ranking of the salaries within each department"
   ]
  },
  {
   "cell_type": "code",
   "execution_count": 26,
   "id": "fcc9b796-2fcb-46bb-b63a-d20052f685d5",
   "metadata": {},
   "outputs": [
    {
     "data": {
      "text/plain": [
       "<pyspark.sql.window.WindowSpec at 0x163930340>"
      ]
     },
     "execution_count": 26,
     "metadata": {},
     "output_type": "execute_result"
    }
   ],
   "source": [
    "# 1. first create a sa windowSpec Object, with salary sorted in the order you want to rank\n",
    "spec = W.Window.partitionBy('dept').orderBy(df.salary.desc())\n",
    "spec"
   ]
  },
  {
   "cell_type": "code",
   "execution_count": 34,
   "id": "f32f56bf-d38a-42f3-91ed-96bc7d6b27b8",
   "metadata": {},
   "outputs": [
    {
     "name": "stdout",
     "output_type": "stream",
     "text": [
      "+---------+------+---------------+----+----------+------------------+----------+--------------+\n",
      "|     dept|salary|row_number_rank|rank|dense_rank|      percent_rank|ntile_rank|cume_dist_rank|\n",
      "+---------+------+---------------+----+----------+------------------+----------+--------------+\n",
      "|    Sales|  8600|              1|   1|         1|               0.0|         1|           0.4|\n",
      "|    Sales|  8600|              2|   1|         1|               0.0|         1|           0.4|\n",
      "|    Sales|  8100|              3|   3|         2|               0.5|         2|           0.8|\n",
      "|    Sales|  8100|              4|   3|         2|               0.5|         3|           0.8|\n",
      "|    Sales|   900|              5|   5|         3|               1.0|         4|           1.0|\n",
      "|  Finance|  9900|              1|   1|         1|               0.0|         1|          0.25|\n",
      "|  Finance|  9000|              2|   2|         2|0.3333333333333333|         2|           0.5|\n",
      "|  Finance|  8300|              3|   3|         3|0.6666666666666666|         3|          0.75|\n",
      "|  Finance|  7900|              4|   4|         4|               1.0|         4|           1.0|\n",
      "|Marketing|  9100|              1|   1|         1|               0.0|         1|           0.5|\n",
      "|Marketing|  8000|              2|   2|         2|               1.0|         2|           1.0|\n",
      "+---------+------+---------------+----+----------+------------------+----------+--------------+\n",
      "\n"
     ]
    }
   ],
   "source": [
    "# 2. then apply the ranking functions. Remember ntile(n) takes one argument\n",
    "df.select('dept','salary')\\\n",
    "    .withColumn('row_number_rank', F.row_number().over(spec))\\\n",
    "    .withColumn('rank', F.rank().over(spec))\\\n",
    "    .withColumn('dense_rank', F.dense_rank().over(spec))\\\n",
    "    .withColumn('percent_rank', F.percent_rank().over(spec))\\\n",
    "    .withColumn('ntile_rank', F.ntile(4).over(spec))\\\n",
    "    .withColumn('cume_dist_rank', F.cume_dist().over(spec))\\\n",
    "    .show()"
   ]
  },
  {
   "cell_type": "markdown",
   "id": "b6c9d46d-665c-4328-bfeb-c91422f3b457",
   "metadata": {},
   "source": [
    "- Notice ranks 1 and 2 are for the same salary amount. \n",
    "- row_number() doesn't check for duplicates, hence is much faster\n",
    "- other rank methods do check for duplicates and are thus slower. They would assign the same ranks to duplicates"
   ]
  },
  {
   "cell_type": "markdown",
   "id": "cd2b3f06-e330-4f2d-9e5e-2f14f55512ab",
   "metadata": {},
   "source": [
    "### 1.2 Analytical Window Functions\n",
    "- lag(colName,offsetVal, valueToReturnWhereNoOffsetExist): Returns offset row value before the current row value. \n",
    "- lead(): Returns offset row value after the current row value\n",
    "\n",
    "`Note:` ordering is required"
   ]
  },
  {
   "cell_type": "code",
   "execution_count": 35,
   "id": "a09ea7a4-b660-4aa6-b094-aa9fb6c404e1",
   "metadata": {},
   "outputs": [
    {
     "name": "stdout",
     "output_type": "stream",
     "text": [
      "+-------+---------+-----+------+---+\n",
      "|empname|     dept|state|salary|age|\n",
      "+-------+---------+-----+------+---+\n",
      "|  James|    Sales|   NY|   900| 34|\n",
      "| Alicia|    Sales|   NY|  8600| 56|\n",
      "| Robert|    Sales|   CA|  8100| 30|\n",
      "|   John|    Sales|   AZ|  8600| 31|\n",
      "|   Rose|    Sales|   AZ|  8100| 33|\n",
      "|   Lisa|  Finance|   CA|  9000| 24|\n",
      "|   Deja|  Finance|   CA|  9900| 40|\n",
      "|  Sugie|  Finance|   NY|  8300| 36|\n",
      "|    Ram|  Finance|   NY|  7900| 53|\n",
      "|   Kyle|Marketing|   CA|  8000| 25|\n",
      "|   Reid|Marketing|   NY|  9100| 50|\n",
      "+-------+---------+-----+------+---+\n",
      "\n"
     ]
    }
   ],
   "source": [
    "df.show()"
   ]
  },
  {
   "cell_type": "code",
   "execution_count": 36,
   "id": "b0e8d516-c61a-474b-ba68-90a12fc15887",
   "metadata": {},
   "outputs": [],
   "source": [
    "# as usual, start off by creating a spec i.e. a partition\n",
    "spec = W.Window.partitionBy('dept').orderBy('salary')"
   ]
  },
  {
   "cell_type": "code",
   "execution_count": 38,
   "id": "a2dd7cf8-c365-436c-9d2c-9c9bd79267fd",
   "metadata": {},
   "outputs": [
    {
     "name": "stdout",
     "output_type": "stream",
     "text": [
      "+---------+------+------------+-------------+\n",
      "|     dept|salary|lag_prev_sal|lead_prev_sal|\n",
      "+---------+------+------------+-------------+\n",
      "|    Sales|   900|           0|         8100|\n",
      "|    Sales|  8100|         900|         8100|\n",
      "|    Sales|  8100|        8100|         8600|\n",
      "|    Sales|  8600|        8100|         8600|\n",
      "|    Sales|  8600|        8600|            0|\n",
      "|  Finance|  7900|           0|         8300|\n",
      "|  Finance|  8300|        7900|         9000|\n",
      "|  Finance|  9000|        8300|         9900|\n",
      "|  Finance|  9900|        9000|            0|\n",
      "|Marketing|  8000|           0|         9100|\n",
      "|Marketing|  9100|        8000|            0|\n",
      "+---------+------+------------+-------------+\n",
      "\n"
     ]
    }
   ],
   "source": [
    "df.select(df.dept, df.salary)\\\n",
    "    .withColumn('lag_prev_sal', F.lag('salary', 1, 0).over(spec))\\\n",
    "    .withColumn('lead_prev_sal', F.lead('salary', 1, 0).over(spec))\\\n",
    "    .show()"
   ]
  },
  {
   "cell_type": "markdown",
   "id": "d2050b90-9fa0-4a97-88c2-8afccddedbb2",
   "metadata": {},
   "source": [
    "`lag arguments and results explained:`\n",
    "- we are taking the lag1 (offset = 1) of salary, and where a lag doesn't exist (e.g. the case for all first values within a partition) we use the value 0\n",
    "- similar for lead"
   ]
  },
  {
   "cell_type": "markdown",
   "id": "9947c01e-bbef-4862-a6d1-fbfa92263b95",
   "metadata": {},
   "source": [
    "### 1.3 Aggregate Window Functions\n",
    "- We can apply these aggregate functions on the windows functions\n",
    "- For these ones we dont need to apply any orderby, as this works on a group of records where ordering is not required"
   ]
  },
  {
   "cell_type": "code",
   "execution_count": 39,
   "id": "20564c44-df4a-4427-a522-e1129819e700",
   "metadata": {},
   "outputs": [
    {
     "name": "stdout",
     "output_type": "stream",
     "text": [
      "+-------+---------+-----+------+---+\n",
      "|empname|     dept|state|salary|age|\n",
      "+-------+---------+-----+------+---+\n",
      "|  James|    Sales|   NY|   900| 34|\n",
      "| Alicia|    Sales|   NY|  8600| 56|\n",
      "| Robert|    Sales|   CA|  8100| 30|\n",
      "|   John|    Sales|   AZ|  8600| 31|\n",
      "|   Rose|    Sales|   AZ|  8100| 33|\n",
      "|   Lisa|  Finance|   CA|  9000| 24|\n",
      "|   Deja|  Finance|   CA|  9900| 40|\n",
      "|  Sugie|  Finance|   NY|  8300| 36|\n",
      "|    Ram|  Finance|   NY|  7900| 53|\n",
      "|   Kyle|Marketing|   CA|  8000| 25|\n",
      "|   Reid|Marketing|   NY|  9100| 50|\n",
      "+-------+---------+-----+------+---+\n",
      "\n"
     ]
    }
   ],
   "source": [
    "df.show()"
   ]
  },
  {
   "cell_type": "code",
   "execution_count": 41,
   "id": "5524b78a-bd70-4c2e-be92-14513d9c67ef",
   "metadata": {},
   "outputs": [
    {
     "name": "stdout",
     "output_type": "stream",
     "text": [
      "+---------+------+----------------+\n",
      "|     dept|salary|sum_sal_per_dept|\n",
      "+---------+------+----------------+\n",
      "|    Sales|   900|           34300|\n",
      "|    Sales|  8600|           34300|\n",
      "|    Sales|  8100|           34300|\n",
      "|    Sales|  8600|           34300|\n",
      "|    Sales|  8100|           34300|\n",
      "|  Finance|  9000|           35100|\n",
      "|  Finance|  9900|           35100|\n",
      "|  Finance|  8300|           35100|\n",
      "|  Finance|  7900|           35100|\n",
      "|Marketing|  8000|           17100|\n",
      "|Marketing|  9100|           17100|\n",
      "+---------+------+----------------+\n",
      "\n"
     ]
    }
   ],
   "source": [
    "# create a spec\n",
    "spec = W.Window.partitionBy('dept')\n",
    "\n",
    "df.select('dept', 'salary')\\\n",
    "    .withColumn('sum_sal_per_dept', F.sum('salary').over(spec))\\\n",
    "    .show()"
   ]
  },
  {
   "cell_type": "markdown",
   "id": "579ed639-4e07-4f81-aa1d-0ad1f206c2ad",
   "metadata": {},
   "source": [
    "Let's get the highest & lowest salary in each department"
   ]
  },
  {
   "cell_type": "code",
   "execution_count": 46,
   "id": "6e377bfb-996c-4fd9-86c2-3c426a0c4a1d",
   "metadata": {},
   "outputs": [
    {
     "name": "stdout",
     "output_type": "stream",
     "text": [
      "+---------+------+--------------+-------------+\n",
      "|     dept|salary|highest_salary|lowest_salary|\n",
      "+---------+------+--------------+-------------+\n",
      "|    Sales|  8600|          8600|         8600|\n",
      "|    Sales|  8600|          8600|         8600|\n",
      "|    Sales|  8100|          8600|         8100|\n",
      "|    Sales|  8100|          8600|         8100|\n",
      "|    Sales|   900|          8600|          900|\n",
      "|  Finance|  9900|          9900|         9900|\n",
      "|  Finance|  9000|          9900|         9000|\n",
      "|  Finance|  8300|          9900|         8300|\n",
      "|  Finance|  7900|          9900|         7900|\n",
      "|Marketing|  9100|          9100|         9100|\n",
      "|Marketing|  8000|          9100|         8000|\n",
      "+---------+------+--------------+-------------+\n",
      "\n"
     ]
    }
   ],
   "source": [
    "spec = W.Window.partitionBy('dept').orderBy(df.salary.desc())\n",
    "\n",
    "df.select('dept', 'salary')\\\n",
    "    .withColumn('highest_salary', F.first('salary').over(spec))\\\n",
    "    .withColumn('lowest_salary', F.last('salary').over(spec))\\\n",
    "    .show()"
   ]
  },
  {
   "cell_type": "markdown",
   "id": "6bb0160e-6c7e-4dc3-a220-3b8a7111f567",
   "metadata": {},
   "source": [
    "### 1.4 rangeBetween() and rowBetween()\n",
    "\n",
    "`rangeBetween()`\n",
    "- Takes two arguments (start, end) to define frame boundaries\n",
    "- Default: unboundedPreceding and unboundedFollowing\n",
    "- Both `start` and `end` are relative from the current row. e.g. 0 = current row, -1= one less than the current row, 5= 5 after the current row\n",
    "- Recommended to use: `Window.unboundedPreceding`, `Window.unboundedFollowing`, `Window.currentRow` rather than using inegral values directly\n",
    "\n",
    "`rowsBetween()`\n",
    "- similar notes to above"
   ]
  },
  {
   "cell_type": "markdown",
   "id": "c42eddbe-6edb-4c3c-befb-061d6892ed91",
   "metadata": {},
   "source": [
    "#### Example 1: from unbounded Preceeding to unbounded Following\n",
    "- Aggregates from the first row of the partition to the last row of partition\n",
    "- Same results returned for both rangBetween() and rowsBetween()"
   ]
  },
  {
   "cell_type": "code",
   "execution_count": 62,
   "id": "5a9c573d-9ac1-4e46-8832-e27a931c8124",
   "metadata": {},
   "outputs": [],
   "source": [
    "spec_rangebtw = W.Window.partitionBy('dept')\\\n",
    "                    .orderBy('salary')\\\n",
    "                    .rangeBetween(W.Window.unboundedPreceding, W.Window.unboundedFollowing)\n",
    "\n",
    "spec2_rowsbtw = W.Window.partitionBy('dept')\\\n",
    "                    .orderBy('salary')\\\n",
    "                    .rowsBetween(W.Window.unboundedPreceding, W.Window.unboundedFollowing)"
   ]
  },
  {
   "cell_type": "code",
   "execution_count": 68,
   "id": "c343e1a4-c727-4f3c-939d-91455b48eccd",
   "metadata": {},
   "outputs": [
    {
     "name": "stdout",
     "output_type": "stream",
     "text": [
      "+---------+------+-------+\n",
      "|     dept|salary|sum_sal|\n",
      "+---------+------+-------+\n",
      "|    Sales|   900|  34300|\n",
      "|    Sales|  8100|  34300|\n",
      "|    Sales|  8100|  34300|\n",
      "|    Sales|  8600|  34300|\n",
      "|    Sales|  8600|  34300|\n",
      "|  Finance|  7900|  35100|\n",
      "|  Finance|  8300|  35100|\n",
      "|  Finance|  9000|  35100|\n",
      "|  Finance|  9900|  35100|\n",
      "|Marketing|  8000|  17100|\n",
      "|Marketing|  9100|  17100|\n",
      "+---------+------+-------+\n",
      "\n"
     ]
    }
   ],
   "source": [
    "df.select(df.dept, df.salary).withColumn('sum_sal', F.sum('salary').over(spec_rangebtw)).show()"
   ]
  },
  {
   "cell_type": "code",
   "execution_count": 67,
   "id": "eadb03dc-489d-4e10-97a2-4164a1416a06",
   "metadata": {},
   "outputs": [
    {
     "name": "stdout",
     "output_type": "stream",
     "text": [
      "+---------+------+-------+\n",
      "|     dept|salary|sum_sal|\n",
      "+---------+------+-------+\n",
      "|    Sales|   900|  34300|\n",
      "|    Sales|  8100|  34300|\n",
      "|    Sales|  8100|  34300|\n",
      "|    Sales|  8600|  34300|\n",
      "|    Sales|  8600|  34300|\n",
      "|  Finance|  7900|  35100|\n",
      "|  Finance|  8300|  35100|\n",
      "|  Finance|  9000|  35100|\n",
      "|  Finance|  9900|  35100|\n",
      "|Marketing|  8000|  17100|\n",
      "|Marketing|  9100|  17100|\n",
      "+---------+------+-------+\n",
      "\n"
     ]
    }
   ],
   "source": [
    "df.select(df.dept, df.salary).withColumn('sum_sal', F.sum('salary').over(spec2_rowsbtw)).show()"
   ]
  },
  {
   "cell_type": "markdown",
   "id": "152eac08-f750-4f61-b0c8-5dc625dcdec1",
   "metadata": {},
   "source": [
    "#### Example 2: from `currentRow` to `unboundedFollowing`\n",
    "- This aggregates from the current row values up to the last row values in the partition\n",
    "- similar results produced for rangeBetween() and rowsBetween()"
   ]
  },
  {
   "cell_type": "code",
   "execution_count": 77,
   "id": "ca735b55-d559-40fe-8bb6-45c578a1d490",
   "metadata": {},
   "outputs": [],
   "source": [
    "# create specs\n",
    "spec_rangebtw = W.Window.partitionBy('dept')\\\n",
    "                    .orderBy('salary')\\\n",
    "                    .rangeBetween(W.Window.currentRow, W.Window.unboundedFollowing)\n",
    "\n",
    "spec2_rowsbtw = W.Window.partitionBy('dept')\\\n",
    "                    .orderBy('salary')\\\n",
    "                    .rowsBetween(W.Window.currentRow, W.Window.unboundedFollowing)"
   ]
  },
  {
   "cell_type": "code",
   "execution_count": 78,
   "id": "2267e6dd-1751-45a2-97c1-0700dce64b1f",
   "metadata": {},
   "outputs": [
    {
     "name": "stdout",
     "output_type": "stream",
     "text": [
      "+---------+------+-------+\n",
      "|     dept|salary|sum_sal|\n",
      "+---------+------+-------+\n",
      "|    Sales|   900|  34300|\n",
      "|    Sales|  8100|  33400|\n",
      "|    Sales|  8100|  33400|\n",
      "|    Sales|  8600|  17200|\n",
      "|    Sales|  8600|  17200|\n",
      "|  Finance|  7900|  35100|\n",
      "|  Finance|  8300|  27200|\n",
      "|  Finance|  9000|  18900|\n",
      "|  Finance|  9900|   9900|\n",
      "|Marketing|  8000|  17100|\n",
      "|Marketing|  9100|   9100|\n",
      "+---------+------+-------+\n",
      "\n"
     ]
    }
   ],
   "source": [
    "df.select(df.dept, df.salary).withColumn('sum_sal', F.sum('salary').over(spec_rangebtw)).show()"
   ]
  },
  {
   "cell_type": "code",
   "execution_count": 79,
   "id": "a2bb58bd-a1b0-425e-bb9e-5d42b73163e0",
   "metadata": {},
   "outputs": [
    {
     "name": "stdout",
     "output_type": "stream",
     "text": [
      "+---------+------+-------+\n",
      "|     dept|salary|sum_sal|\n",
      "+---------+------+-------+\n",
      "|    Sales|   900|  34300|\n",
      "|    Sales|  8100|  33400|\n",
      "|    Sales|  8100|  25300|\n",
      "|    Sales|  8600|  17200|\n",
      "|    Sales|  8600|   8600|\n",
      "|  Finance|  7900|  35100|\n",
      "|  Finance|  8300|  27200|\n",
      "|  Finance|  9000|  18900|\n",
      "|  Finance|  9900|   9900|\n",
      "|Marketing|  8000|  17100|\n",
      "|Marketing|  9100|   9100|\n",
      "+---------+------+-------+\n",
      "\n"
     ]
    }
   ],
   "source": [
    "df.select(df.dept, df.salary).withColumn('sum_sal', F.sum('salary').over(spec2_rowsbtw)).show()"
   ]
  },
  {
   "cell_type": "markdown",
   "id": "6c0ee39f-4047-4bbb-a340-d06d348ceb9d",
   "metadata": {},
   "source": [
    "Notice:\n",
    "- both outputs are the same\n",
    "- first value of sum_sal = total for that partition\n",
    "- second value of sum_sal = total for that partition from current value to the last value (for `rows between`)\n",
    "\n",
    "Difference:\n",
    "- `rangeBetween()` assigns the same aggregated value to duplicates wheras `rowsBetween()` treats each new row as new record hence the name "
   ]
  },
  {
   "cell_type": "markdown",
   "id": "3377be1e-278d-4a68-9ee2-7bd4fb243dd4",
   "metadata": {},
   "source": [
    "#### Example 3: from currentRow to constant value\n",
    "- Might be handy if you want to calculate 12Month and 3month rolling values"
   ]
  },
  {
   "cell_type": "code",
   "execution_count": 82,
   "id": "0ac82aec-7670-4634-bcd6-b886cd8bff5b",
   "metadata": {},
   "outputs": [
    {
     "name": "stdout",
     "output_type": "stream",
     "text": [
      "+---------+------+-------+\n",
      "|     dept|salary|sum_sal|\n",
      "+---------+------+-------+\n",
      "|    Sales|   900|    900|\n",
      "|    Sales|  8100|  33400|\n",
      "|    Sales|  8100|  33400|\n",
      "|    Sales|  8600|  17200|\n",
      "|    Sales|  8600|  17200|\n",
      "|  Finance|  7900|  16200|\n",
      "|  Finance|  8300|   8300|\n",
      "|  Finance|  9000|   9000|\n",
      "|  Finance|  9900|   9900|\n",
      "|Marketing|  8000|   8000|\n",
      "|Marketing|  9100|   9100|\n",
      "+---------+------+-------+\n",
      "\n"
     ]
    }
   ],
   "source": [
    "# create specs\n",
    "# range between\n",
    "spec_rangebtw = W.Window.partitionBy('dept')\\\n",
    "                    .orderBy('salary')\\\n",
    "                    .rangeBetween(W.Window.currentRow, 500)\n",
    "\n",
    "df.select(df.dept, df.salary).withColumn('sum_sal', F.sum('salary').over(spec_rangebtw)).show()"
   ]
  },
  {
   "cell_type": "code",
   "execution_count": 81,
   "id": "740e97bd-2d52-4362-a838-143131704067",
   "metadata": {},
   "outputs": [
    {
     "name": "stdout",
     "output_type": "stream",
     "text": [
      "+---------+------+-------+\n",
      "|     dept|salary|sum_sal|\n",
      "+---------+------+-------+\n",
      "|    Sales|   900|  17100|\n",
      "|    Sales|  8100|  24800|\n",
      "|    Sales|  8100|  25300|\n",
      "|    Sales|  8600|  17200|\n",
      "|    Sales|  8600|   8600|\n",
      "|  Finance|  7900|  25200|\n",
      "|  Finance|  8300|  27200|\n",
      "|  Finance|  9000|  18900|\n",
      "|  Finance|  9900|   9900|\n",
      "|Marketing|  8000|  17100|\n",
      "|Marketing|  9100|   9100|\n",
      "+---------+------+-------+\n",
      "\n"
     ]
    }
   ],
   "source": [
    "# rows between current row and the next two\n",
    "spec2_rowsbtw = W.Window.partitionBy('dept')\\\n",
    "                    .orderBy('salary')\\\n",
    "                    .rowsBetween(W.Window.currentRow, 2)\n",
    "\n",
    "df.select(df.dept, df.salary).withColumn('sum_sal', F.sum('salary').over(spec2_rowsbtw)).show()"
   ]
  },
  {
   "cell_type": "code",
   "execution_count": null,
   "id": "7d1fc740-bc87-4977-904e-264c8db10285",
   "metadata": {},
   "outputs": [],
   "source": []
  }
 ],
 "metadata": {
  "kernelspec": {
   "display_name": "Python 3",
   "language": "python",
   "name": "python3"
  },
  "language_info": {
   "codemirror_mode": {
    "name": "ipython",
    "version": 3
   },
   "file_extension": ".py",
   "mimetype": "text/x-python",
   "name": "python",
   "nbconvert_exporter": "python",
   "pygments_lexer": "ipython3",
   "version": "3.9.4"
  }
 },
 "nbformat": 4,
 "nbformat_minor": 5
}
